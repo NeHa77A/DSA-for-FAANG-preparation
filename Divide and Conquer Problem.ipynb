{
 "cells": [
  {
   "cell_type": "code",
   "execution_count": 1,
   "id": "d84f8d73",
   "metadata": {},
   "outputs": [
    {
     "name": "stdout",
     "output_type": "stream",
     "text": [
      "Enter the Number 2\n",
      "Enter the Power term 16\n",
      "The power of an element is  65536\n"
     ]
    }
   ],
   "source": [
    "def findPowerOfElement(a,n):\n",
    "    # small problem\n",
    "    if n == 1:\n",
    "        return a\n",
    "    elif n ==0:\n",
    "        return 1\n",
    "    else:\n",
    "        # big problem\n",
    "        # Divide\n",
    "        mid =n//2\n",
    "        # Conquer\n",
    "        b =findPowerOfElement(a,mid)\n",
    "        # Combine\n",
    "        result = b*b\n",
    "        # if value is odd\n",
    "        if n %2 ==0:\n",
    "            return result\n",
    "        return result * a\n",
    "\n",
    "a =int(input(\"Enter the Number \"))\n",
    "n = int(input(\"Enter the Power term \"))\n",
    "result = findPowerOfElement(a,n)\n",
    "print(\"The power of an element is \",result)\n",
    "        "
   ]
  },
  {
   "cell_type": "code",
   "execution_count": 9,
   "id": "4036a917",
   "metadata": {},
   "outputs": [
    {
     "name": "stdout",
     "output_type": "stream",
     "text": [
      "Enter the number of stair 8\n",
      "step is  34\n"
     ]
    }
   ],
   "source": [
    "def NumberStair(n):\n",
    "    if n == 0:\n",
    "        return 0\n",
    "    elif n == 1:\n",
    "        return 1\n",
    "    elif n==2:\n",
    "        return 2\n",
    "    else:\n",
    "        return NumberStair(n-1)+ NumberStair(n-2)\n",
    "n = int(input(\"Enter the number of stair \"))\n",
    "result = NumberStair(n)\n",
    "print(\"step is \",result)"
   ]
  },
  {
   "cell_type": "code",
   "execution_count": null,
   "id": "e4600c45",
   "metadata": {},
   "outputs": [],
   "source": [
    " "
   ]
  }
 ],
 "metadata": {
  "kernelspec": {
   "display_name": "Python 3 (ipykernel)",
   "language": "python",
   "name": "python3"
  },
  "language_info": {
   "codemirror_mode": {
    "name": "ipython",
    "version": 3
   },
   "file_extension": ".py",
   "mimetype": "text/x-python",
   "name": "python",
   "nbconvert_exporter": "python",
   "pygments_lexer": "ipython3",
   "version": "3.8.15"
  }
 },
 "nbformat": 4,
 "nbformat_minor": 5
}
