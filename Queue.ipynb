{
 "cells": [
  {
   "cell_type": "code",
   "execution_count": 2,
   "id": "fa1418a8",
   "metadata": {},
   "outputs": [
    {
     "name": "stdout",
     "output_type": "stream",
     "text": [
      "[]\n",
      "Enter the size of Queue 3\n",
      "select the opration : 1.adding element \n",
      " 2.Deleting \n",
      " 3.Display\n",
      " 4.Finish\n",
      "1\n"
     ]
    },
    {
     "ename": "NameError",
     "evalue": "name 'queue' is not defined",
     "output_type": "error",
     "traceback": [
      "\u001b[1;31m---------------------------------------------------------------------------\u001b[0m",
      "\u001b[1;31mNameError\u001b[0m                                 Traceback (most recent call last)",
      "\u001b[1;32m~\\AppData\\Local\\Temp/ipykernel_8836/4113436022.py\u001b[0m in \u001b[0;36m<module>\u001b[1;34m\u001b[0m\n\u001b[0;32m     37\u001b[0m \u001b[0mf1\u001b[0m\u001b[1;33m.\u001b[0m\u001b[0menqueue\u001b[0m\u001b[1;33m(\u001b[0m\u001b[1;34m\"neha \"\u001b[0m\u001b[1;33m)\u001b[0m\u001b[1;33m\u001b[0m\u001b[1;33m\u001b[0m\u001b[0m\n\u001b[0;32m     38\u001b[0m f1.enqueue(\"computer \")\"\"\"\n\u001b[1;32m---> 39\u001b[1;33m \u001b[0mf1\u001b[0m\u001b[1;33m.\u001b[0m\u001b[0mdisplay\u001b[0m\u001b[1;33m(\u001b[0m\u001b[1;33m)\u001b[0m\u001b[1;33m\u001b[0m\u001b[1;33m\u001b[0m\u001b[0m\n\u001b[0m\u001b[0;32m     40\u001b[0m \u001b[1;33m\u001b[0m\u001b[0m\n",
      "\u001b[1;32m~\\AppData\\Local\\Temp/ipykernel_8836/4113436022.py\u001b[0m in \u001b[0;36mdisplay\u001b[1;34m(self)\u001b[0m\n\u001b[0;32m     22\u001b[0m             \u001b[0mchoice\u001b[0m \u001b[1;33m=\u001b[0m \u001b[0mint\u001b[0m\u001b[1;33m(\u001b[0m\u001b[0minput\u001b[0m\u001b[1;33m(\u001b[0m\u001b[1;33m)\u001b[0m\u001b[1;33m)\u001b[0m\u001b[1;33m\u001b[0m\u001b[1;33m\u001b[0m\u001b[0m\n\u001b[0;32m     23\u001b[0m             \u001b[1;32mif\u001b[0m \u001b[0mchoice\u001b[0m \u001b[1;33m==\u001b[0m \u001b[1;36m1\u001b[0m\u001b[1;33m:\u001b[0m\u001b[1;33m\u001b[0m\u001b[1;33m\u001b[0m\u001b[0m\n\u001b[1;32m---> 24\u001b[1;33m                 \u001b[0mq\u001b[0m\u001b[1;33m.\u001b[0m\u001b[0menqueue\u001b[0m\u001b[1;33m(\u001b[0m\u001b[0mself\u001b[0m\u001b[1;33m)\u001b[0m\u001b[1;33m\u001b[0m\u001b[1;33m\u001b[0m\u001b[0m\n\u001b[0m\u001b[0;32m     25\u001b[0m             \u001b[1;32melif\u001b[0m \u001b[0mchoice\u001b[0m \u001b[1;33m==\u001b[0m \u001b[1;36m2\u001b[0m\u001b[1;33m:\u001b[0m\u001b[1;33m\u001b[0m\u001b[1;33m\u001b[0m\u001b[0m\n\u001b[0;32m     26\u001b[0m                 \u001b[0mdequeue\u001b[0m\u001b[1;33m(\u001b[0m\u001b[1;33m)\u001b[0m\u001b[1;33m\u001b[0m\u001b[1;33m\u001b[0m\u001b[0m\n",
      "\u001b[1;32m~\\AppData\\Local\\Temp/ipykernel_8836/4113436022.py\u001b[0m in \u001b[0;36menqueue\u001b[1;34m(self)\u001b[0m\n\u001b[0;32m      3\u001b[0m         \u001b[0mself\u001b[0m\u001b[1;33m.\u001b[0m\u001b[0mqueue\u001b[0m \u001b[1;33m=\u001b[0m \u001b[1;33m[\u001b[0m\u001b[1;33m]\u001b[0m\u001b[1;33m\u001b[0m\u001b[1;33m\u001b[0m\u001b[0m\n\u001b[0;32m      4\u001b[0m     \u001b[1;32mdef\u001b[0m \u001b[0menqueue\u001b[0m\u001b[1;33m(\u001b[0m\u001b[0mself\u001b[0m\u001b[1;33m)\u001b[0m\u001b[1;33m:\u001b[0m\u001b[1;33m\u001b[0m\u001b[1;33m\u001b[0m\u001b[0m\n\u001b[1;32m----> 5\u001b[1;33m         \u001b[1;32mif\u001b[0m \u001b[0mlen\u001b[0m\u001b[1;33m(\u001b[0m\u001b[0mqueue\u001b[0m\u001b[1;33m)\u001b[0m \u001b[1;33m==\u001b[0m \u001b[0msize\u001b[0m\u001b[1;33m:\u001b[0m\u001b[1;33m\u001b[0m\u001b[1;33m\u001b[0m\u001b[0m\n\u001b[0m\u001b[0;32m      6\u001b[0m             \u001b[0mprint\u001b[0m\u001b[1;33m(\u001b[0m\u001b[1;34m\"Queue is full \"\u001b[0m\u001b[1;33m)\u001b[0m\u001b[1;33m\u001b[0m\u001b[1;33m\u001b[0m\u001b[0m\n\u001b[0;32m      7\u001b[0m         \u001b[1;32melse\u001b[0m \u001b[1;33m:\u001b[0m\u001b[1;33m\u001b[0m\u001b[1;33m\u001b[0m\u001b[0m\n",
      "\u001b[1;31mNameError\u001b[0m: name 'queue' is not defined"
     ]
    }
   ],
   "source": [
    "class q:\n",
    "    def __init__(self):\n",
    "        self.queue = []\n",
    "    def enqueue(self):\n",
    "        if len(queue) == size:\n",
    "            print(\"Queue is full \")\n",
    "        else :\n",
    "            element = input(\"Enter the element \")\n",
    "            queue.append(element)\n",
    "            print(element, \" is added to the Queue \")\n",
    "    def dequeue(self):\n",
    "        if not queue:\n",
    "            print(element,\"Queue is Empty \")\n",
    "        else:\n",
    "            e = q.pop(0)\n",
    "            print(\"element removed \",e)\n",
    "    def display(self):\n",
    "        print(self.queue)\n",
    "        size = int(input(\"Enter the size of Queue \"))\n",
    "        while True:\n",
    "            print(\"select the opration : 1.adding element \\n 2.Deleting \\n 3.Display\\n 4.Finish\")\n",
    "            choice = int(input())\n",
    "            if choice == 1:\n",
    "                q.enqueue(self)\n",
    "            elif choice == 2:\n",
    "                dequeue()\n",
    "            elif choice == 3:\n",
    "                display()\n",
    "            elif choice == 4:\n",
    "                break\n",
    "            else:\n",
    "                print(\"Invalid option \")\n",
    "        \n",
    "f1 = q()\n",
    "\"\"\"f1.enqueue(\"priyanshu \")\n",
    "f1.enqueue(\"sachin \")\n",
    "f1.enqueue(\"neha \")\n",
    "f1.enqueue(\"computer \")\"\"\"\n",
    "f1.display()\n",
    "            "
   ]
  },
  {
   "cell_type": "code",
   "execution_count": 3,
   "id": "4a1aa3c3",
   "metadata": {},
   "outputs": [
    {
     "name": "stdout",
     "output_type": "stream",
     "text": [
      "[45, 78, 90]\n",
      "After poping element  [None, None, 90]\n"
     ]
    }
   ],
   "source": [
    "class arrayQueue:\n",
    "    def __init__(self):\n",
    "        self.data = []\n",
    "        self.size = 0\n",
    "        self.front = 0\n",
    "    def isEmpty(self):\n",
    "        return self.size == 0\n",
    "    \n",
    "    def enqueue(self,e):\n",
    "        self.data.append(e)\n",
    "        self.size = self.size +1\n",
    "    def dequeue(self):\n",
    "        if self.isEmpty():\n",
    "            return Empty('Queue is empty ')\n",
    "        value = self.data[self.front]\n",
    "        self.data[self.front] = None\n",
    "        self.front = self.front + 1\n",
    "        self.size = self.size - 1\n",
    "        return value\n",
    "    def first(self):\n",
    "        if self.isEmpty():\n",
    "            return Empty('Queue is Empty ')\n",
    "        return self.data[self.front]\n",
    "    def prints(self):\n",
    "        return self.data\n",
    "q = arrayQueue()\n",
    "q.enqueue(45)\n",
    "q.enqueue(78)\n",
    "q.enqueue(90)\n",
    "print(q.prints())\n",
    "q.dequeue()\n",
    "q.dequeue()\n",
    "print(\"After poping element \",q.prints())"
   ]
  },
  {
   "cell_type": "code",
   "execution_count": 3,
   "id": "ebb6295d",
   "metadata": {},
   "outputs": [
    {
     "name": "stdout",
     "output_type": "stream",
     "text": [
      "Ford\n",
      "Mustang\n",
      "1964\n"
     ]
    }
   ],
   "source": [
    "thisdict = {\n",
    "  \"brand\": \"Ford\",\n",
    "  \"model\": \"Mustang\",\n",
    "  \"year\": 1964\n",
    "}\n",
    "for i in thisdict:\n",
    "    print(thisdict[i])"
   ]
  },
  {
   "cell_type": "markdown",
   "id": "da3646d5",
   "metadata": {},
   "source": [
    "### "
   ]
  },
  {
   "cell_type": "code",
   "execution_count": null,
   "id": "33983045",
   "metadata": {},
   "outputs": [],
   "source": []
  },
  {
   "cell_type": "code",
   "execution_count": null,
   "id": "4876ab1b",
   "metadata": {},
   "outputs": [],
   "source": []
  },
  {
   "cell_type": "code",
   "execution_count": null,
   "id": "55bc223a",
   "metadata": {},
   "outputs": [],
   "source": []
  },
  {
   "cell_type": "code",
   "execution_count": null,
   "id": "74f3e987",
   "metadata": {},
   "outputs": [],
   "source": []
  },
  {
   "cell_type": "code",
   "execution_count": null,
   "id": "e7e9efd0",
   "metadata": {},
   "outputs": [],
   "source": []
  }
 ],
 "metadata": {
  "kernelspec": {
   "display_name": "Python 3 (ipykernel)",
   "language": "python",
   "name": "python3"
  },
  "language_info": {
   "codemirror_mode": {
    "name": "ipython",
    "version": 3
   },
   "file_extension": ".py",
   "mimetype": "text/x-python",
   "name": "python",
   "nbconvert_exporter": "python",
   "pygments_lexer": "ipython3",
   "version": "3.8.15"
  }
 },
 "nbformat": 4,
 "nbformat_minor": 5
}
