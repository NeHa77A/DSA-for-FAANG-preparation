{
 "cells": [
  {
   "cell_type": "markdown",
   "id": "df9dde4d",
   "metadata": {},
   "source": [
    "### Ascii value"
   ]
  },
  {
   "cell_type": "code",
   "execution_count": 1,
   "id": "d2b24f7f",
   "metadata": {},
   "outputs": [
    {
     "data": {
      "text/plain": [
       "109"
      ]
     },
     "execution_count": 1,
     "metadata": {},
     "output_type": "execute_result"
    }
   ],
   "source": [
    "ord(\"m\")"
   ]
  },
  {
   "cell_type": "code",
   "execution_count": 2,
   "id": "371df5ac",
   "metadata": {},
   "outputs": [
    {
     "data": {
      "text/plain": [
       "77"
      ]
     },
     "execution_count": 2,
     "metadata": {},
     "output_type": "execute_result"
    }
   ],
   "source": [
    "ord('M')"
   ]
  },
  {
   "cell_type": "markdown",
   "id": "8ac6faec",
   "metadata": {},
   "source": [
    "# DIVISION MODULO"
   ]
  },
  {
   "cell_type": "markdown",
   "id": "ec3aa525",
   "metadata": {},
   "source": [
    "### Create a hash function which is respnsible to generate the key of given value"
   ]
  },
  {
   "cell_type": "code",
   "execution_count": 3,
   "id": "865d0047",
   "metadata": {},
   "outputs": [
    {
     "data": {
      "text/plain": [
       "5"
      ]
     },
     "execution_count": 3,
     "metadata": {},
     "output_type": "execute_result"
    }
   ],
   "source": [
    "def hash_fuction(key):\n",
    "    summation =0\n",
    "    ## m = size of hashtable\n",
    "    m = 10\n",
    "    for char in key:\n",
    "        summation += ord(char)\n",
    "    ## formula of division modulo hash function\n",
    "    return summation % m\n",
    "hash_fuction(\"March 2026\")    "
   ]
  },
  {
   "cell_type": "code",
   "execution_count": 4,
   "id": "eac79c05",
   "metadata": {},
   "outputs": [
    {
     "data": {
      "text/plain": [
       "4"
      ]
     },
     "execution_count": 4,
     "metadata": {},
     "output_type": "execute_result"
    }
   ],
   "source": [
    "hash_fuction(\"March 2025\") "
   ]
  },
  {
   "cell_type": "code",
   "execution_count": 5,
   "id": "d8230719",
   "metadata": {},
   "outputs": [
    {
     "data": {
      "text/plain": [
       "2"
      ]
     },
     "execution_count": 5,
     "metadata": {},
     "output_type": "execute_result"
    }
   ],
   "source": [
    "hash_fuction(\"March 2050\")"
   ]
  },
  {
   "cell_type": "markdown",
   "id": "77fc2ebe",
   "metadata": {},
   "source": [
    "### hash table in which we can perform ----> addition , extraction, create hash function"
   ]
  },
  {
   "cell_type": "code",
   "execution_count": 9,
   "id": "fcf14d21",
   "metadata": {},
   "outputs": [],
   "source": [
    "class HashTable:\n",
    "    def __init__(self):\n",
    "        self.MAX = 10\n",
    "        ## initialize all element as None\n",
    "        self.arr = [None for i in range(self.MAX)]\n",
    "    def hash_fuction(self,key):\n",
    "        summation =0\n",
    "    ## m = size of hashtable\n",
    "        m = 10\n",
    "        for char in key:\n",
    "            summation += ord(char)\n",
    "    ## formula of division modulo hash function\n",
    "        return summation % m\n",
    "    \n",
    "    ## Add item in hash table\n",
    "    def addItem(self,key,value):\n",
    "        h = hash_fuction(key)\n",
    "        self.arr[h] = value\n",
    "        \n",
    "    ## get any item from hash table\n",
    "    def getItem(self,key):\n",
    "        h =self.hash_fuction(key)\n",
    "        return self.arr[h]\n",
    "    "
   ]
  },
  {
   "cell_type": "code",
   "execution_count": 10,
   "id": "ee6a18b7",
   "metadata": {},
   "outputs": [],
   "source": [
    "## object of class\n",
    "hashtable1 = HashTable()"
   ]
  },
  {
   "cell_type": "code",
   "execution_count": 11,
   "id": "9127b0a7",
   "metadata": {},
   "outputs": [
    {
     "data": {
      "text/plain": [
       "[None, None, None, None, None, None, None, None, None, None]"
      ]
     },
     "execution_count": 11,
     "metadata": {},
     "output_type": "execute_result"
    }
   ],
   "source": [
    "hashtable1.arr"
   ]
  },
  {
   "cell_type": "code",
   "execution_count": 13,
   "id": "8a9cb260",
   "metadata": {},
   "outputs": [],
   "source": [
    "hashtable1.addItem('March 2020', 234)"
   ]
  },
  {
   "cell_type": "code",
   "execution_count": 14,
   "id": "34ff820f",
   "metadata": {},
   "outputs": [
    {
     "data": {
      "text/plain": [
       "[None, None, None, None, None, None, None, None, None, 234]"
      ]
     },
     "execution_count": 14,
     "metadata": {},
     "output_type": "execute_result"
    }
   ],
   "source": [
    "hashtable1.arr"
   ]
  },
  {
   "cell_type": "code",
   "execution_count": 15,
   "id": "857b9992",
   "metadata": {},
   "outputs": [],
   "source": [
    "hashtable1.addItem('March 2050', 456)"
   ]
  },
  {
   "cell_type": "code",
   "execution_count": 16,
   "id": "dd23aded",
   "metadata": {},
   "outputs": [
    {
     "data": {
      "text/plain": [
       "[None, None, 456, None, None, None, None, None, None, 234]"
      ]
     },
     "execution_count": 16,
     "metadata": {},
     "output_type": "execute_result"
    }
   ],
   "source": [
    "hashtable1.arr"
   ]
  },
  {
   "cell_type": "code",
   "execution_count": 17,
   "id": "90c33d85",
   "metadata": {},
   "outputs": [],
   "source": [
    "hashtable1.addItem('March 2025', 476)\n",
    "hashtable1.addItem('March 2026', 459)"
   ]
  },
  {
   "cell_type": "code",
   "execution_count": 18,
   "id": "fe717784",
   "metadata": {},
   "outputs": [
    {
     "data": {
      "text/plain": [
       "[None, None, 456, None, 476, 459, None, None, None, 234]"
      ]
     },
     "execution_count": 18,
     "metadata": {},
     "output_type": "execute_result"
    }
   ],
   "source": [
    "hashtable1.arr"
   ]
  },
  {
   "cell_type": "code",
   "execution_count": 19,
   "id": "61066713",
   "metadata": {},
   "outputs": [
    {
     "data": {
      "text/plain": [
       "476"
      ]
     },
     "execution_count": 19,
     "metadata": {},
     "output_type": "execute_result"
    }
   ],
   "source": [
    "hashtable1.getItem('March 2025')"
   ]
  },
  {
   "cell_type": "markdown",
   "id": "7fbc68d1",
   "metadata": {},
   "source": [
    "## Second way"
   ]
  },
  {
   "cell_type": "code",
   "execution_count": 22,
   "id": "da8234d6",
   "metadata": {},
   "outputs": [],
   "source": [
    "## hashtable1[key] = value\n",
    "## This form\n",
    "class HashTable1:\n",
    "    def __init__(self):\n",
    "        self.MAX = 10\n",
    "        ## initialize all element as None\n",
    "        self.arr = [None for i in range(self.MAX)]\n",
    "    def hash_fuction(self,key):\n",
    "        summation =0\n",
    "        for char in key:\n",
    "            summation += ord(char)\n",
    "    ## formula of division modulo hash function\n",
    "        return summation % m\n",
    "    \n",
    "    ## Add item in hash table\n",
    "    def __setitem__(self,key,value):\n",
    "        h = hash_fuction(key)\n",
    "        self.arr[h] = value\n",
    "        \n",
    "    ## get any item from hash table\n",
    "    def __getitem__(self,key):\n",
    "        h =self.hash_fuction(key)\n",
    "        return self.arr[h]\n",
    "    "
   ]
  },
  {
   "cell_type": "code",
   "execution_count": 23,
   "id": "8e934ab4",
   "metadata": {},
   "outputs": [],
   "source": [
    "obj1 = HashTable1()"
   ]
  },
  {
   "cell_type": "code",
   "execution_count": 24,
   "id": "f31dc421",
   "metadata": {},
   "outputs": [],
   "source": [
    "obj1['March 2025'] = 678"
   ]
  },
  {
   "cell_type": "markdown",
   "id": "42e62f10",
   "metadata": {},
   "source": [
    "### Implement the hash table class that is discuss in session change the hash fuction mid-square method"
   ]
  },
  {
   "cell_type": "code",
   "execution_count": null,
   "id": "95cb5dc2",
   "metadata": {},
   "outputs": [],
   "source": []
  }
 ],
 "metadata": {
  "kernelspec": {
   "display_name": "Python 3 (ipykernel)",
   "language": "python",
   "name": "python3"
  },
  "language_info": {
   "codemirror_mode": {
    "name": "ipython",
    "version": 3
   },
   "file_extension": ".py",
   "mimetype": "text/x-python",
   "name": "python",
   "nbconvert_exporter": "python",
   "pygments_lexer": "ipython3",
   "version": "3.8.15"
  }
 },
 "nbformat": 4,
 "nbformat_minor": 5
}
