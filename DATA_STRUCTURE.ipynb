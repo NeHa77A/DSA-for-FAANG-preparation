{
 "cells": [
  {
   "cell_type": "markdown",
   "id": "f1803fbe",
   "metadata": {},
   "source": [
    "# ARRAY PRACTICE"
   ]
  },
  {
   "cell_type": "code",
   "execution_count": 4,
   "id": "8eb99dde",
   "metadata": {},
   "outputs": [],
   "source": [
    "import array as arr"
   ]
  },
  {
   "cell_type": "code",
   "execution_count": 17,
   "id": "dd2b5dc8",
   "metadata": {},
   "outputs": [
    {
     "name": "stdout",
     "output_type": "stream",
     "text": [
      "the new array is  11 23 45 67 89 90 \n"
     ]
    }
   ],
   "source": [
    "array1= [11,23,45,67,89,90]\n",
    "a= arr.array('i',[11,23,45,67,89,90])\n",
    "print(\"the new array is \",end=\" \")\n",
    "for i in range(0,6):\n",
    "    print( a[i] ,end=\" \")\n",
    "print()"
   ]
  },
  {
   "cell_type": "code",
   "execution_count": 18,
   "id": "d40a6c76",
   "metadata": {},
   "outputs": [
    {
     "name": "stdout",
     "output_type": "stream",
     "text": [
      "the new array is  11 23 45 67 77 89 90 \n"
     ]
    }
   ],
   "source": [
    "a.insert(4,77)\n",
    "print(\"the new array is \",end=\" \")\n",
    "for i in (a):\n",
    "    print(i,end=\" \")\n",
    "print()"
   ]
  },
  {
   "cell_type": "code",
   "execution_count": 19,
   "id": "4904ad09",
   "metadata": {},
   "outputs": [
    {
     "name": "stdout",
     "output_type": "stream",
     "text": [
      "Did not contain that value \n",
      "Did not contain that value \n",
      "Did not contain that value \n",
      "Did not contain that value \n",
      "the array contain peak value and this is peak value  77\n"
     ]
    }
   ],
   "source": [
    "for i in (a):\n",
    "    if i==77:\n",
    "        print(\"the array contain peak value and this is peak value \",i)\n",
    "        break;\n",
    "    else :\n",
    "        print(\"Did not contain that value \")"
   ]
  },
  {
   "cell_type": "code",
   "execution_count": 47,
   "id": "dfc5503f",
   "metadata": {},
   "outputs": [
    {
     "name": "stdout",
     "output_type": "stream",
     "text": [
      "the peak index value is  2\n"
     ]
    }
   ],
   "source": [
    "\n",
    "def peakvalue(a,n):\n",
    "  \n",
    "    if (n==1):\n",
    "        return 0\n",
    "    if (a[0] >=a[1]):\n",
    "        return 0\n",
    "    if (a[n-1] >= a[n-2]):\n",
    "        return n-1\n",
    "    for i in range(1,n-1):\n",
    "        if (a[i]>=a[i-1] and a[i] >= a[i+1]):\n",
    "            return i\n",
    "a = [ 1, 3, 20, 4, 1, 0 ]\n",
    "n=len(a)\n",
    "print(\"the peak index value is \",peakvalue(a,n))\n"
   ]
  },
  {
   "cell_type": "code",
   "execution_count": 48,
   "id": "8a153160",
   "metadata": {},
   "outputs": [
    {
     "name": "stdout",
     "output_type": "stream",
     "text": [
      "The peak value is  20\n"
     ]
    }
   ],
   "source": [
    "print(\"The peak value is \",a[2])"
   ]
  },
  {
   "cell_type": "code",
   "execution_count": 2,
   "id": "4ac0259e",
   "metadata": {},
   "outputs": [],
   "source": [
    "#ADDING TWO ARRAYS \n",
    "import numpy as np"
   ]
  },
  {
   "cell_type": "code",
   "execution_count": 8,
   "id": "6b78e5ff",
   "metadata": {},
   "outputs": [
    {
     "name": "stdout",
     "output_type": "stream",
     "text": [
      "array('i', [1, 2, 3, 4, 5])\n",
      "array('i', [6, 7, 8, 9, 1])\n",
      "array('i', [1, 2, 3, 4, 5, 6, 7, 8, 9, 1])\n",
      "array('i', [1, 2, 3, 4, 5, 6, 7, 8, 9, 1])\n"
     ]
    }
   ],
   "source": [
    "a = arr.array('i',[1,2,3,4,5])\n",
    "print(a)\n",
    "b = arr.array('i',[6,7,8,9,1])\n",
    "print(b)\n",
    "for i in (a,6):\n",
    "    print(a+b)\n"
   ]
  },
  {
   "cell_type": "code",
   "execution_count": 10,
   "id": "2e879ef9",
   "metadata": {},
   "outputs": [
    {
     "name": "stdout",
     "output_type": "stream",
     "text": [
      "[5 7 9]\n"
     ]
    }
   ],
   "source": [
    "a = np.array([1,2,3])\n",
    "b = np.array([4,5,6])\n",
    "print(a+b)"
   ]
  },
  {
   "cell_type": "code",
   "execution_count": 16,
   "id": "3fa7e93e",
   "metadata": {},
   "outputs": [
    {
     "name": "stdout",
     "output_type": "stream",
     "text": [
      "The value of array a is : array('i', [7, 8, 9])\n",
      "The value of array b is  array('i', [4, 2, 6])\n",
      "11\n",
      "10\n",
      "15\n",
      "array('i', [11, 10, 15])\n"
     ]
    }
   ],
   "source": [
    "a= arr.array('i',[7,8,9])\n",
    "print(\"The value of array a is :\",a)\n",
    "b= arr.array('i',[4,2,6])\n",
    "print(\"The value of array b is \",b)\n",
    "c= arr.array('i',[])\n",
    "for i in range(len(a)):\n",
    "    print(a[i] + b[i])\n",
    "    c.append(a[i]+ b[i])\n",
    "print(c)"
   ]
  },
  {
   "cell_type": "code",
   "execution_count": 28,
   "id": "c96f8e55",
   "metadata": {},
   "outputs": [
    {
     "name": "stdout",
     "output_type": "stream",
     "text": [
      "The value of n  array('i', [34, 56, 83])\n",
      "The value of f  array('i', [27, 56, 35])\n",
      "array('i', [34, 56, 83, 27, 56, 35])\n",
      "array('i', [61, 112, 118])\n"
     ]
    }
   ],
   "source": [
    "n= arr.array('i',[34,56,83])\n",
    "f= arr.array('i',[27,56,35])\n",
    "c= arr.array('i',[])\n",
    "print(\"The value of n \",n)\n",
    "print(\"The value of f \",f)\n",
    "length_n = len(n)\n",
    "length_f = len(f)\n",
    "if (length_n ==length_f):\n",
    "    #ONE ARRAY IS ADDED IN SECOND ARRAYS\n",
    "    print(n+f)\n",
    "    for i in range(len(a)):\n",
    "    #SUM OF ALL ELEMENT OF ARRAY A TO ARRAY B \n",
    "        c.append(n[i]+f[i])\n",
    "    print(c)\n",
    "        \n",
    "else :\n",
    "    print(\"The array are not equal\")"
   ]
  },
  {
   "cell_type": "code",
   "execution_count": 38,
   "id": "f12ec037",
   "metadata": {},
   "outputs": [
    {
     "name": "stdout",
     "output_type": "stream",
     "text": [
      "The array x is \n",
      " [[5 7 8]\n",
      " [2 4 9]]\n",
      "The array y is \n",
      " [[1 5 7]\n",
      " [3 7 1]]\n",
      "The new array is \n",
      "[[ 6 12 15]\n",
      " [ 5 11 10]]\n"
     ]
    }
   ],
   "source": [
    "# TWO DIMENTIONAL ARRAY \n",
    "x = np.array([[1,5,7],[3,7,1]])\n",
    "y = np.array([[5,7,8],[2,4,9]])\n",
    "print(\"The array x is \\n\",y)\n",
    "print(\"The array y is \\n\",x)\n",
    "print(\"The new array is \")\n",
    "h = np.add(y,x)\n",
    "print(h)"
   ]
  },
  {
   "cell_type": "code",
   "execution_count": 6,
   "id": "388fb559",
   "metadata": {},
   "outputs": [
    {
     "name": "stdout",
     "output_type": "stream",
     "text": [
      "The array G is :  [[4 6 8]\n",
      " [2 3 6]]\n",
      "The array D is : [[3 5 7]\n",
      " [2 6 9]]\n"
     ]
    }
   ],
   "source": [
    "r= np.array([[4,6,8],[2,3,6]])\n",
    "d = np.array([[3,5,7],[2,6,9]])\n",
    "\n",
    "print(\"The array G is : \",r)\n",
    "print(\"The array D is :\",d)\n",
    "f = np.array([[],[]])\n",
    "e = np.add(r,d)\n"
   ]
  },
  {
   "cell_type": "code",
   "execution_count": 1,
   "id": "d6f9f067",
   "metadata": {},
   "outputs": [
    {
     "name": "stdout",
     "output_type": "stream",
     "text": [
      "[65, 39, 221]\n"
     ]
    }
   ],
   "source": [
    "# TO PRINT THE REQURED INPUT BY USING LAMBDA FUNCTION\n",
    "lists= [12,65,54,39,102,339,221,50,70]\n",
    "result = list(filter(lambda x : (x%13 == 0),lists))\n",
    "print(result)"
   ]
  },
  {
   "cell_type": "code",
   "execution_count": 2,
   "id": "edfbf34d",
   "metadata": {},
   "outputs": [],
   "source": [
    "# IF TWO ELEMENT IN TWO ARRAY IS SAME THEN USE FOLLOWING PROGRAM\n",
    "def interSection(arr1,arr2):\n",
    "    result = list(filter(lambda x: x in arr1, arr2))\n",
    "    print(\"interSection : \",result)\n"
   ]
  },
  {
   "cell_type": "code",
   "execution_count": null,
   "id": "017280b6",
   "metadata": {},
   "outputs": [],
   "source": []
  },
  {
   "cell_type": "code",
   "execution_count": 5,
   "id": "19ec5dbe",
   "metadata": {},
   "outputs": [
    {
     "name": "stdout",
     "output_type": "stream",
     "text": [
      "interSection :  [3, 5]\n"
     ]
    }
   ],
   "source": [
    "if __name__ == \"__main__\":\n",
    "    arr1 = [1,3,4,5,7]\n",
    "    arr2 = [2,3,5,6]\n",
    "    interSection(arr1,arr2)"
   ]
  },
  {
   "cell_type": "markdown",
   "id": "53acc7a2",
   "metadata": {},
   "source": [
    "### ARRAY MAIN PROGRAM"
   ]
  },
  {
   "cell_type": "code",
   "execution_count": 3,
   "id": "d66eff57",
   "metadata": {},
   "outputs": [
    {
     "name": "stdout",
     "output_type": "stream",
     "text": [
      "enter the value 30\n",
      "searching value is peresent at index  2\n"
     ]
    }
   ],
   "source": [
    "def binarysearch(array,i,j,x):\n",
    "    ##small prblem \n",
    "    #single element search\n",
    "    if i==j:\n",
    "        if array[i]== x:\n",
    "            return i\n",
    "        else :\n",
    "            return -1\n",
    "    else:\n",
    "        \n",
    "        #big problem \n",
    "        mid = i+(j+i)//2\n",
    "        if array[mid]==x:\n",
    "            return mid\n",
    "        \n",
    "        # RESURSIVE CALL\n",
    "        \n",
    "        elif array[mid]<x:\n",
    "            return binarysearch(array,mid+1,j,x)\n",
    "        else:\n",
    "            return binarysearch(array,i,mid-1,x)\n",
    "array = [10,20,30,40,50,78]\n",
    "i=0\n",
    "j=len(array)-1\n",
    "x=int(input(\"enter the value \"))\n",
    "result = binarysearch(array,i,j,x)\n",
    "print(\"searching value is peresent at index \",result)\n",
    "\n",
    "    "
   ]
  },
  {
   "cell_type": "code",
   "execution_count": 9,
   "id": "992bacc0",
   "metadata": {},
   "outputs": [
    {
     "name": "stdout",
     "output_type": "stream",
     "text": [
      "Enter the value to check 2\n",
      "element is present  True\n"
     ]
    }
   ],
   "source": [
    "def iterative_method(array,x):\n",
    "    for i in array:\n",
    "        if array[i] == x:\n",
    "            # if we want the value then write i in place of TRUE\n",
    "            return True\n",
    "        return False\n",
    "    \n",
    "array = [1,2,3,4,7]\n",
    "x= int(input(\"Enter the value to check \"))\n",
    "print(\"element is present \",iterative_method(array,x))"
   ]
  },
  {
   "cell_type": "markdown",
   "id": "d2aae8db",
   "metadata": {},
   "source": [
    "## SEARCH 2D MATRIX"
   ]
  },
  {
   "cell_type": "code",
   "execution_count": 5,
   "id": "7d771b73",
   "metadata": {},
   "outputs": [
    {
     "name": "stdout",
     "output_type": "stream",
     "text": [
      "Enter the number 8\n",
      "The number is present in matrix \n",
      "result is (1, 3)\n"
     ]
    }
   ],
   "source": [
    "def search2Dmatrix(matrix, target):\n",
    "    # FOR ROW WE ARE TAKING i\n",
    "    i= 0\n",
    "    # FOR COLUNM WE WILL TAKE j\n",
    "    j= len(matrix[0]) -1\n",
    "    x= len(matrix)\n",
    "    while (i <x and j>=0):\n",
    "        if matrix[i][j] == target:\n",
    "            print(\"The number is present in matrix \")\n",
    "            # FOR FINDING THE INDEX TAKE i and j \n",
    "            \n",
    "            return i,j\n",
    "        elif (matrix[i][j] > target):\n",
    "            j -= 1\n",
    "        else:\n",
    "            i +=1\n",
    "    return -1\n",
    "matrix = [[1,2,3,4],[5,6,7,8],[11,12,13,15],[17,18,20,22]]\n",
    "target = int(input(\"Enter the number \"))\n",
    "result = search2Dmatrix(matrix,target)\n",
    "print(\"result is\",result)\n",
    "\n",
    "    "
   ]
  },
  {
   "cell_type": "markdown",
   "id": "ccae2e31",
   "metadata": {},
   "source": [
    "##SELECTION SORT"
   ]
  },
  {
   "cell_type": "code",
   "execution_count": 1,
   "id": "47fb2c20",
   "metadata": {},
   "outputs": [
    {
     "name": "stdout",
     "output_type": "stream",
     "text": [
      "the result is  [11, 26, 28, 36, 45, 47, 89]\n"
     ]
    }
   ],
   "source": [
    "# CREATING THE CODE FOR SOTING THE ARRAY\n",
    "def selection_sort(array):\n",
    "    for i in range(len(array)):\n",
    "        # min_index take the index of minimum value in a array atbeach iteration\n",
    "        min_index = i\n",
    "        for j in range(i+1,len(array)):\n",
    "            if array[min_index]> array[j]:\n",
    "                min_index = j\n",
    "                # SWAP ARRAY[i] WITH ARRAY[min_index]\n",
    "        array[i],array[min_index] = array[min_index],array[i]\n",
    "    return array\n",
    "# Driver code\n",
    "array = [26,45,89,36,47,28,11]\n",
    "result= selection_sort(array)\n",
    "print(\"the result is \",result)"
   ]
  },
  {
   "cell_type": "markdown",
   "id": "91ea999b",
   "metadata": {},
   "source": [
    "### BUBBLE SORT"
   ]
  },
  {
   "cell_type": "code",
   "execution_count": 2,
   "id": "b6f0f8cd",
   "metadata": {},
   "outputs": [
    {
     "name": "stdout",
     "output_type": "stream",
     "text": [
      "The sorted array is  [1, 25, 35, 45, 46, 67]\n"
     ]
    }
   ],
   "source": [
    "def bubble_sort(array):\n",
    "    n = len(array)\n",
    "    for i in range(n-1):\n",
    "        # LAST i ELEMENT ARE ALREADY IN SORTED MANNER\n",
    "        for j in range(n-i-1):\n",
    "            if array[j] > array[j+1]:\n",
    "                #swap the element of array[j ] with array[j+1]\n",
    "                array[j],array[j+1] = array[j+1],array[j]\n",
    "    return array\n",
    "array = [25,67,35,46,45,1]\n",
    "result = bubble_sort(array)\n",
    "print(\"The sorted array is \",result)"
   ]
  },
  {
   "cell_type": "markdown",
   "id": "066081c8",
   "metadata": {},
   "source": [
    "### INSERTION SORT"
   ]
  },
  {
   "cell_type": "code",
   "execution_count": 1,
   "id": "a8651750",
   "metadata": {},
   "outputs": [
    {
     "name": "stdout",
     "output_type": "stream",
     "text": [
      "the sorted array is  [29, 38, 45, 46, 67, 78]\n"
     ]
    }
   ],
   "source": [
    "def insertionsort(array):\n",
    "    for i in range(1,len(array)):\n",
    "        value = array[i]\n",
    "        j= i-1\n",
    "        \n",
    "        # MAIN CONDITION IN INSERTION SORT\n",
    "        \n",
    "        while j>=0 and value < array[j]:\n",
    "            array[j+1] = array[j]\n",
    "            j -=1\n",
    "        array[j+1] = value\n",
    "    return array\n",
    "array = [29,45,67,38,46,78]\n",
    "result = insertionsort(array)\n",
    "print(\"the sorted array is \",result)"
   ]
  },
  {
   "cell_type": "markdown",
   "id": "66e739b9",
   "metadata": {},
   "source": [
    "### find the missing number"
   ]
  },
  {
   "cell_type": "code",
   "execution_count": 1,
   "id": "b9bab241",
   "metadata": {},
   "outputs": [],
   "source": [
    "#test case 1 --> [1,0,2,4,8,6,]\n",
    "#                 |\n",
    "#                  --->expected output = 3\n",
    "\n",
    "#test case 2 --> [1,0]\n",
    "#                 |\n",
    "#                  --->expected output = 2(bcoz there is no element therefore 2)\n",
    "\n",
    "#test case 3 --> [1,0,3]\n",
    "#                 |\n",
    "#                  --->expected output = 2\n",
    "\n",
    "\n"
   ]
  },
  {
   "cell_type": "markdown",
   "id": "a53b8bb6",
   "metadata": {},
   "source": [
    "### FACEBOOK QUESTION (dividend and divisor is given find Quotient )"
   ]
  },
  {
   "cell_type": "code",
   "execution_count": 11,
   "id": "da54538c",
   "metadata": {},
   "outputs": [
    {
     "name": "stdout",
     "output_type": "stream",
     "text": [
      "Enter the value of dividend =  144\n",
      "Enter the value of divisor =  12\n",
      "The Quotient is  12\n"
     ]
    }
   ],
   "source": [
    "# BRUTE FORCE APPROACH\n",
    "def dividenumber():\n",
    "    dividend = int(input(\"Enter the value of dividend =  \"))\n",
    "    divisor = int(input(\"Enter the value of divisor =  \"))\n",
    "    output = 0\n",
    "    \n",
    "    # jo parant te moth asel to parnt chalnar\n",
    "    \n",
    "    while dividend >= divisor:\n",
    "        dividend -= divisor\n",
    "        \n",
    "        # output madhe add honar jo parant loop chalel\n",
    "        \n",
    "        output +=1\n",
    "    return output\n",
    "\n",
    "# function la call kel \n",
    "\n",
    "df = dividenumber()\n",
    "print(\"The Quotient is \" ,df)\n",
    "        \n",
    "    "
   ]
  },
  {
   "cell_type": "markdown",
   "id": "0b43229e",
   "metadata": {},
   "source": [
    "### FIND UNIQUE EMAIL"
   ]
  },
  {
   "cell_type": "code",
   "execution_count": 5,
   "id": "76aae4f1",
   "metadata": {},
   "outputs": [
    {
     "name": "stdout",
     "output_type": "stream",
     "text": [
      "Number of unique Emails addresses  3\n"
     ]
    }
   ],
   "source": [
    "def numuniqueemail(email):\n",
    "    unique_email = set()\n",
    "    for i in email:\n",
    "        local_name, domain_name = i.split('@')\n",
    "        \n",
    "        # 1st rule is if there is the . then remove it\n",
    "        # 2nd rule if + is present then remove whole part after + in local name \n",
    "        \n",
    "        local_name = local_name.split('+')[0].replace('.','')\n",
    "        unique_email.add(local_name+ '@'+ domain_name)\n",
    "    return len(unique_email)\n",
    "email= [\"test+127.@gmail.com\",\"hsdfs.d+nsns@gamil\",\"jhdsfgsd.sd12@gmail.com\"]\n",
    "count = numuniqueemail(email)\n",
    "print(\"Number of unique Emails addresses \",count)\n",
    "        "
   ]
  },
  {
   "cell_type": "code",
   "execution_count": 5,
   "id": "90035cc2",
   "metadata": {},
   "outputs": [
    {
     "name": "stdout",
     "output_type": "stream",
     "text": [
      "Enter the email trtx.jh+hhf@gmail.com\n",
      "\n",
      "The correct email is  trtxjh@gmail.com\n"
     ]
    }
   ],
   "source": [
    "def giveemail():\n",
    "    \n",
    "    email = input(\"Enter the email \")\n",
    "    local_name, domain_name = email.split('@')\n",
    "    local_name = local_name.split('+')[0].replace('.','')\n",
    "    email = local_name +'@'+domain_name\n",
    "    return email\n",
    "df = giveemail()\n",
    "print()\n",
    "print(\"The correct email is \",df)\n",
    "\n"
   ]
  },
  {
   "cell_type": "markdown",
   "id": "e2a05952",
   "metadata": {},
   "source": [
    "### FINDING OF POWER OF ELEMENT\n"
   ]
  },
  {
   "cell_type": "code",
   "execution_count": 2,
   "id": "1a046b23",
   "metadata": {},
   "outputs": [
    {
     "name": "stdout",
     "output_type": "stream",
     "text": [
      "enter the number 2\n",
      "enter the power value 64\n",
      "\n",
      "The ans is  18446744073709551616\n"
     ]
    }
   ],
   "source": [
    "def DAC_power(a,n):\n",
    "    # small problem\n",
    "    if n == 1:\n",
    "        return a\n",
    "    # for big problem \n",
    "    # we are using divide and conquer stategy\n",
    "    \n",
    "    else:\n",
    "        mid = n//2\n",
    "        b = DAC_power(a,mid)\n",
    "        c = b*b\n",
    "    \n",
    "    # but if there is odd and even number \n",
    "        if n % 2==0:\n",
    "            return c\n",
    "        else :\n",
    "            return c*a\n",
    "a = int(input(\"enter the number \"))\n",
    "n = int(input(\"enter the power value \"))\n",
    "value = DAC_power(a,n)\n",
    "print()\n",
    "print(\"The ans is \",value)\n"
   ]
  },
  {
   "cell_type": "markdown",
   "id": "16f1c65e",
   "metadata": {},
   "source": [
    "### MERGE SORT"
   ]
  },
  {
   "cell_type": "code",
   "execution_count": 4,
   "id": "6b94ce5d",
   "metadata": {},
   "outputs": [
    {
     "name": "stdout",
     "output_type": "stream",
     "text": [
      "Enter the lenght of array 5\n",
      "9\n",
      "98\n",
      "56\n",
      "2\n",
      "78\n",
      "The give array is \n",
      "[9, 98, 56, 2, 78]\n",
      "\n",
      "Sorted array is \n",
      "2 9 56 78 98 \n"
     ]
    }
   ],
   "source": [
    "def mergesort(array):\n",
    "    if len(array) > 1:\n",
    "        mid = len(array)//2\n",
    "        # only value which are present before middle value\n",
    "        # middle value is not taken\n",
    "        left_side = array[:mid]\n",
    "        \n",
    "        # all value after middle value include middle value too\n",
    "        right_side = array[mid:]\n",
    "        # sorting left subtree\n",
    "        mergesort(left_side)\n",
    "        # sorting right sub tree\n",
    "        mergesort(right_side)\n",
    "        \n",
    "        i = j= k = 0\n",
    "        while i < len(left_side) and j < len(right_side):\n",
    "            if left_side[i] < right_side[j]: # comparison \n",
    "                array[k] = left_side[i] # value present at i index is small so it is put in new array\n",
    "                i += 1\n",
    "            else:\n",
    "                # value of j is small then put it in new array\n",
    "                array[k] = right_side[j]\n",
    "                j+=1\n",
    "            k+= 1 # while loop incriment\n",
    "        # checking if any element was left\n",
    "        while i < len(left_side):\n",
    "            array[k] = left_side[i]\n",
    "            i += 1\n",
    "            k += 1\n",
    "        while j < len(right_side):\n",
    "            array[k] = right_side[j]\n",
    "            j += 1\n",
    "            k+=1\n",
    "def printlist(array):\n",
    "    for i in range(len(array)):\n",
    "        print(array[i], end = \" \")\n",
    "    print()\n",
    "if __name__ == '__main__':\n",
    "    array =[]\n",
    "    n = int(input(\"Enter the lenght of array \"))\n",
    "    for i in range(0,n):\n",
    "        x = int(input())\n",
    "        array.append(x)\n",
    "    print(\"The give array is \")\n",
    "    print(array)\n",
    "    print()\n",
    "    mergesort(array)\n",
    "    print(\"Sorted array is \")\n",
    "    printlist(array)\n",
    "                "
   ]
  },
  {
   "cell_type": "markdown",
   "id": "aaa72ea3",
   "metadata": {},
   "source": [
    "### max and min in an Array"
   ]
  },
  {
   "cell_type": "code",
   "execution_count": 3,
   "id": "ab16f040",
   "metadata": {},
   "outputs": [
    {
     "data": {
      "text/plain": [
       "(123, 1)"
      ]
     },
     "execution_count": 3,
     "metadata": {},
     "output_type": "execute_result"
    }
   ],
   "source": [
    "# THIS IS BRUTE FORCE APPROACH \n",
    "# TIME COMPLEXITY = O(n)\n",
    "\n",
    "def maxmin(array):\n",
    "    max1 = array[0]\n",
    "    min1 = array[0]\n",
    "    n = len(array)\n",
    "    for i in range(1,n-1):\n",
    "        if array[i]> max1:\n",
    "             max1 = array[i]\n",
    "        else :\n",
    "            if array[i] < min1:\n",
    "                min1 = array[i]\n",
    "            \n",
    "    return max1,min1\n",
    "array = [123,56,1,34,67]\n",
    "maxmin(array)\n",
    "                                "
   ]
  },
  {
   "cell_type": "code",
   "execution_count": 1,
   "id": "e68dbff0",
   "metadata": {},
   "outputs": [],
   "source": [
    "import datetime"
   ]
  },
  {
   "cell_type": "code",
   "execution_count": 5,
   "id": "081988ea",
   "metadata": {},
   "outputs": [],
   "source": [
    "x = datetime.datetime.now().date()"
   ]
  },
  {
   "cell_type": "code",
   "execution_count": 6,
   "id": "54e333be",
   "metadata": {},
   "outputs": [
    {
     "data": {
      "text/plain": [
       "datetime.date(2022, 8, 17)"
      ]
     },
     "execution_count": 6,
     "metadata": {},
     "output_type": "execute_result"
    }
   ],
   "source": [
    "x"
   ]
  },
  {
   "cell_type": "code",
   "execution_count": 4,
   "id": "fcc148f8",
   "metadata": {},
   "outputs": [
    {
     "name": "stdout",
     "output_type": "stream",
     "text": [
      "1\n",
      "2\n",
      "3\n"
     ]
    }
   ],
   "source": [
    "n=5\n",
    "for i in range(1,n-1):\n",
    "    print(i)"
   ]
  },
  {
   "cell_type": "code",
   "execution_count": 1,
   "id": "4a4165f5",
   "metadata": {},
   "outputs": [
    {
     "name": "stdout",
     "output_type": "stream",
     "text": [
      "The minimum value in array is  4\n",
      "The maximum value in array is  788\n"
     ]
    }
   ],
   "source": [
    "def DAC_maxmin(array,low,high):\n",
    "    max_value = array[0]\n",
    "    min_value = array[0]\n",
    "    # small problem                                # TC=O(1)\n",
    "    if low== high:\n",
    "        return (max_value,min_value)\n",
    "    # for 2 elment\n",
    "    elif low == high-1:                            # TC=O(1)\n",
    "        if array[low]> array[high]:\n",
    "            max_value = array[low]\n",
    "            min_value = array[high]\n",
    "        else:\n",
    "            max_value = array[high]\n",
    "            min_value = array[low]\n",
    "        return (max_value,min_value)\n",
    "    else:\n",
    "        mid = low + (high-low)//2\n",
    "        max_1,min_1 = DAC_maxmin(array,low,mid)     # TC = O(n/2)            ----\\\n",
    "        max_2,min_2 =DAC_maxmin(array,mid+1,high)   # TC = O(n/2)            ----\\ -------> TC = O(n)\n",
    "    return (max(max_1,max_2),min(min_1,min_2))\n",
    "array =[23,7,89,4,788,3]\n",
    "high = len(array) -1\n",
    "low =0\n",
    "max_value,min_value =DAC_maxmin(array,low,high)\n",
    "print(\"The minimum value in array is \",min_value)\n",
    "print(\"The maximum value in array is \",max_value)\n",
    "            \n",
    "            "
   ]
  },
  {
   "cell_type": "code",
   "execution_count": 2,
   "id": "70287cd1",
   "metadata": {},
   "outputs": [
    {
     "name": "stdout",
     "output_type": "stream",
     "text": [
      "the index is  4\n"
     ]
    }
   ],
   "source": [
    "def inserted_index(array,target):\n",
    "    for i in range(len(array)):\n",
    "        if array[i] == target:\n",
    "            return i\n",
    "        elif array[i]> target:\n",
    "            return i\n",
    "            \n",
    "                          # array is sorted \n",
    " \n",
    "    return len(array)\n",
    "array =[1,2,4,6]\n",
    "target = 7\n",
    "\n",
    "print(\"the index is \",inserted_index(array,target))"
   ]
  },
  {
   "cell_type": "markdown",
   "id": "7df4e6d2",
   "metadata": {},
   "source": [
    "### FINDING OF NUMBER OF INVERSION"
   ]
  },
  {
   "cell_type": "code",
   "execution_count": null,
   "id": "a19528d5",
   "metadata": {},
   "outputs": [],
   "source": []
  },
  {
   "cell_type": "markdown",
   "id": "7b6d1cdd",
   "metadata": {},
   "source": [
    "### QUICK SORT "
   ]
  },
  {
   "cell_type": "code",
   "execution_count": 3,
   "id": "94cd5c99",
   "metadata": {},
   "outputs": [
    {
     "name": "stdout",
     "output_type": "stream",
     "text": [
      "[3, 4, 12, 45, 56, 88, 90]\n"
     ]
    }
   ],
   "source": [
    "def partition(array,low,high):\n",
    "    pivot = array[low]\n",
    "    i = low\n",
    "    for j in range(low+1,high+1):\n",
    "        if array[j]<=pivot:\n",
    "            i +=1\n",
    "            array[i],array[j] = array[j],array[i]\n",
    "        \n",
    "    array[i],array[low] = array[low],array[i]\n",
    "    return i\n",
    "def quicksort(array,low,high):\n",
    "    if len(array)==1:\n",
    "        return array\n",
    "    if low<high:\n",
    "        m = partition(array,low,high)\n",
    "        quicksort(array,low,m-1)\n",
    "        quicksort(array,m+1,high)\n",
    "array = [12,56,3,88,45,4,90]\n",
    "quicksort(array,0,6)\n",
    "print(array)"
   ]
  },
  {
   "cell_type": "code",
   "execution_count": null,
   "id": "fdd0f56f",
   "metadata": {},
   "outputs": [],
   "source": []
  }
 ],
 "metadata": {
  "kernelspec": {
   "display_name": "Python 3 (ipykernel)",
   "language": "python",
   "name": "python3"
  },
  "language_info": {
   "codemirror_mode": {
    "name": "ipython",
    "version": 3
   },
   "file_extension": ".py",
   "mimetype": "text/x-python",
   "name": "python",
   "nbconvert_exporter": "python",
   "pygments_lexer": "ipython3",
   "version": "3.8.15"
  }
 },
 "nbformat": 4,
 "nbformat_minor": 5
}
