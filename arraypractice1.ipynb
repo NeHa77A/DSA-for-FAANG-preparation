{
 "cells": [
  {
   "cell_type": "code",
   "execution_count": 2,
   "id": "2960950a",
   "metadata": {},
   "outputs": [],
   "source": [
    "#ARRAY EXAMPLE FIRST NOW WE ARE GOING TO SOLVE IT\n",
    "def array(arr,n,x):\n",
    "    for i in range(0,n-1):\n",
    "        if(arr[i]>arr[i+1]):\n",
    "            break;\n",
    "    l=(i+1)%n\n",
    "    r =i\n",
    "    while (l != r):\n",
    "        if(arr[l]+ arr[r]== x):\n",
    "            return True;\n",
    "        if(arr[l]+arr[r] <x):\n",
    "            l = (l+1)%n;\n",
    "        else:\n",
    "            r = (n+r - 1)%n;\n",
    "    return False;"
   ]
  },
  {
   "cell_type": "code",
   "execution_count": 2,
   "id": "7a2c3887",
   "metadata": {},
   "outputs": [
    {
     "name": "stdout",
     "output_type": "stream",
     "text": [
      "Collecting jsonify\n",
      "  Downloading jsonify-0.5.tar.gz (1.0 kB)\n",
      "  Preparing metadata (setup.py): started\n",
      "  Preparing metadata (setup.py): finished with status 'done'\n",
      "Building wheels for collected packages: jsonify\n",
      "  Building wheel for jsonify (setup.py): started\n",
      "  Building wheel for jsonify (setup.py): finished with status 'done'\n",
      "  Created wheel for jsonify: filename=jsonify-0.5-py3-none-any.whl size=1538 sha256=2f21b09f09ddca91e914c4c21ec9b88fe7e23d9b0114410c1228956d5344aacf\n",
      "  Stored in directory: c:\\users\\rajiv\\appdata\\local\\pip\\cache\\wheels\\ee\\c6\\ef\\643adfbd90fefe0640cb6ba3b20995a2f50ccc2c57f55b190f\n",
      "Successfully built jsonify\n",
      "Installing collected packages: jsonify\n",
      "Successfully installed jsonify-0.5\n"
     ]
    }
   ],
   "source": [
    "!pip install jsonify\n"
   ]
  },
  {
   "cell_type": "raw",
   "id": "5a1eb54d",
   "metadata": {},
   "source": [
    "arr =[11,15,6,8,9,10]"
   ]
  },
  {
   "cell_type": "code",
   "execution_count": 5,
   "id": "37ced407",
   "metadata": {},
   "outputs": [
    {
     "name": "stdout",
     "output_type": "stream",
     "text": [
      "Array does not havetwo element with sum 16\n"
     ]
    }
   ],
   "source": [
    "#IF ARRAY CONTAIN TWO NUMBER HAVING SUM 16 THEN THE IT WILL PRINT\n",
    "arr =[11,15,6,8,9,1]\n",
    "sum = 16\n",
    "n= len(arr)\n",
    "if(array(arr,n,sum)):\n",
    "    print(\"array has two element with sum 16\")\n",
    "else :\n",
    "    print(\"Array does not havetwo element with sum 16\")"
   ]
  },
  {
   "cell_type": "code",
   "execution_count": 8,
   "id": "96eb094a",
   "metadata": {},
   "outputs": [
    {
     "name": "stdout",
     "output_type": "stream",
     "text": [
      "Max sum is :  319\n"
     ]
    }
   ],
   "source": [
    "# ARRAY EXAMPLE SECOND \n",
    "def maxSum(arr):\n",
    "    arrSum = 0\n",
    "    currVal = 0\n",
    "    n = len(arr)\n",
    "    for i in range(0,n):\n",
    "        arrSum = arrSum + arr[i]\n",
    "        currVal = currVal + (i*arr[i])\n",
    "    maxVal = currVal\n",
    "    for j in range(i, n):\n",
    "        currVal = currVal + arrSum-n*arr[n-j]\n",
    "        if currVal > maxVal:\n",
    "            maxVal = currVal\n",
    "    return maxVal\n",
    "arr = [10,2,1,3,4,5,6,7,8,9]\n",
    "print(\"Max sum is : \",maxSum(arr))"
   ]
  },
  {
   "cell_type": "code",
   "execution_count": 2,
   "id": "68db9271",
   "metadata": {},
   "outputs": [
    {
     "name": "stdout",
     "output_type": "stream",
     "text": [
      "4\n"
     ]
    }
   ],
   "source": [
    "def removeDuplicates(nums):\n",
    "    \n",
    "    length = 0\n",
    "    for i in range(0,len(nums)):\n",
    "        \n",
    "        if nums[i] != nums[length]:\n",
    "            length +=1\n",
    "            nums[length] = nums[i]\n",
    "    return length +1\n",
    "nums = [1,2,3,3,4,4,4]\n",
    "print(removeDuplicates(nums))"
   ]
  },
  {
   "cell_type": "code",
   "execution_count": 8,
   "id": "77aee0bb",
   "metadata": {},
   "outputs": [
    {
     "name": "stdout",
     "output_type": "stream",
     "text": [
      "11\n"
     ]
    }
   ],
   "source": [
    "def romantoint(str):\n",
    "    value={\n",
    "    \"I\":1,\n",
    "    \"V\":5,        \n",
    "    \"X\":10,       \n",
    "    \"L\":50,\n",
    "    \"C\":100,\n",
    "    \"D\":500,\n",
    "    \"M\":1000,}\n",
    "    total =0\n",
    "    i= 0\n",
    "    while (i < len(str)):\n",
    "        str1 = value[str[i]]\n",
    "        if (i+1 < len(str)):\n",
    "            str2 = value[str[i+1]]\n",
    "            if (str1 >= str2):\n",
    "                total =total + str1\n",
    "                i = i+1\n",
    "            else:\n",
    "                total = total -str1\n",
    "                i = i+1\n",
    "        else:\n",
    "            total = total +str1\n",
    "            i= i+1\n",
    "    return total\n",
    "print(romantoint(\"XI\"))\n",
    "                \n",
    "                \n",
    "    \n"
   ]
  },
  {
   "cell_type": "code",
   "execution_count": 1,
   "id": "ce165921",
   "metadata": {},
   "outputs": [
    {
     "ename": "KeyboardInterrupt",
     "evalue": "",
     "output_type": "error",
     "traceback": [
      "\u001b[1;31m---------------------------------------------------------------------------\u001b[0m",
      "\u001b[1;31mKeyboardInterrupt\u001b[0m                         Traceback (most recent call last)",
      "\u001b[1;32m~\\AppData\\Local\\Temp/ipykernel_12168/2904596373.py\u001b[0m in \u001b[0;36m<module>\u001b[1;34m\u001b[0m\n\u001b[0;32m      8\u001b[0m \u001b[1;32mfor\u001b[0m \u001b[0mi\u001b[0m \u001b[1;32min\u001b[0m \u001b[0mtxt\u001b[0m\u001b[1;33m:\u001b[0m\u001b[1;33m\u001b[0m\u001b[1;33m\u001b[0m\u001b[0m\n\u001b[0;32m      9\u001b[0m     \u001b[0mpyautogui\u001b[0m\u001b[1;33m.\u001b[0m\u001b[0mwrite\u001b[0m\u001b[1;33m(\u001b[0m\u001b[0ma\u001b[0m \u001b[1;33m+\u001b[0m \u001b[1;34m' '\u001b[0m\u001b[1;33m+\u001b[0m\u001b[0mi\u001b[0m\u001b[1;33m)\u001b[0m\u001b[1;33m\u001b[0m\u001b[1;33m\u001b[0m\u001b[0m\n\u001b[1;32m---> 10\u001b[1;33m     \u001b[0mpyautogui\u001b[0m\u001b[1;33m.\u001b[0m\u001b[0mpress\u001b[0m\u001b[1;33m(\u001b[0m\u001b[1;34m'Enter'\u001b[0m\u001b[1;33m)\u001b[0m\u001b[1;33m\u001b[0m\u001b[1;33m\u001b[0m\u001b[0m\n\u001b[0m",
      "\u001b[1;32m~\\anaconda3\\lib\\site-packages\\pyautogui\\__init__.py\u001b[0m in \u001b[0;36mwrapper\u001b[1;34m(*args, **kwargs)\u001b[0m\n\u001b[0;32m    597\u001b[0m         \u001b[0mfailSafeCheck\u001b[0m\u001b[1;33m(\u001b[0m\u001b[1;33m)\u001b[0m\u001b[1;33m\u001b[0m\u001b[1;33m\u001b[0m\u001b[0m\n\u001b[0;32m    598\u001b[0m         \u001b[0mreturnVal\u001b[0m \u001b[1;33m=\u001b[0m \u001b[0mwrappedFunction\u001b[0m\u001b[1;33m(\u001b[0m\u001b[1;33m*\u001b[0m\u001b[0margs\u001b[0m\u001b[1;33m,\u001b[0m \u001b[1;33m**\u001b[0m\u001b[0mkwargs\u001b[0m\u001b[1;33m)\u001b[0m\u001b[1;33m\u001b[0m\u001b[1;33m\u001b[0m\u001b[0m\n\u001b[1;32m--> 599\u001b[1;33m         \u001b[0m_handlePause\u001b[0m\u001b[1;33m(\u001b[0m\u001b[0mkwargs\u001b[0m\u001b[1;33m.\u001b[0m\u001b[0mget\u001b[0m\u001b[1;33m(\u001b[0m\u001b[1;34m\"_pause\"\u001b[0m\u001b[1;33m,\u001b[0m \u001b[1;32mTrue\u001b[0m\u001b[1;33m)\u001b[0m\u001b[1;33m)\u001b[0m\u001b[1;33m\u001b[0m\u001b[1;33m\u001b[0m\u001b[0m\n\u001b[0m\u001b[0;32m    600\u001b[0m         \u001b[1;32mreturn\u001b[0m \u001b[0mreturnVal\u001b[0m\u001b[1;33m\u001b[0m\u001b[1;33m\u001b[0m\u001b[0m\n\u001b[0;32m    601\u001b[0m \u001b[1;33m\u001b[0m\u001b[0m\n",
      "\u001b[1;32m~\\anaconda3\\lib\\site-packages\\pyautogui\\__init__.py\u001b[0m in \u001b[0;36m_handlePause\u001b[1;34m(_pause)\u001b[0m\n\u001b[0;32m    641\u001b[0m     \u001b[1;32mif\u001b[0m \u001b[0m_pause\u001b[0m\u001b[1;33m:\u001b[0m\u001b[1;33m\u001b[0m\u001b[1;33m\u001b[0m\u001b[0m\n\u001b[0;32m    642\u001b[0m         \u001b[1;32massert\u001b[0m \u001b[0misinstance\u001b[0m\u001b[1;33m(\u001b[0m\u001b[0mPAUSE\u001b[0m\u001b[1;33m,\u001b[0m \u001b[0mint\u001b[0m\u001b[1;33m)\u001b[0m \u001b[1;32mor\u001b[0m \u001b[0misinstance\u001b[0m\u001b[1;33m(\u001b[0m\u001b[0mPAUSE\u001b[0m\u001b[1;33m,\u001b[0m \u001b[0mfloat\u001b[0m\u001b[1;33m)\u001b[0m\u001b[1;33m\u001b[0m\u001b[1;33m\u001b[0m\u001b[0m\n\u001b[1;32m--> 643\u001b[1;33m         \u001b[0mtime\u001b[0m\u001b[1;33m.\u001b[0m\u001b[0msleep\u001b[0m\u001b[1;33m(\u001b[0m\u001b[0mPAUSE\u001b[0m\u001b[1;33m)\u001b[0m\u001b[1;33m\u001b[0m\u001b[1;33m\u001b[0m\u001b[0m\n\u001b[0m\u001b[0;32m    644\u001b[0m \u001b[1;33m\u001b[0m\u001b[0m\n\u001b[0;32m    645\u001b[0m \u001b[1;33m\u001b[0m\u001b[0m\n",
      "\u001b[1;31mKeyboardInterrupt\u001b[0m: "
     ]
    }
   ],
   "source": [
    "import pyautogui\n",
    "import time\n",
    "import webbrowser as wb\n",
    "wb.open(\"web.whatsapp.com\")\n",
    "time.sleep(10)\n",
    "txt = open('animals.txt')\n",
    "a = \"Priyanshu is a \"\n",
    "for i in txt:\n",
    "    pyautogui.write(a + ' '+i)\n",
    "    pyautogui.press('Enter')"
   ]
  },
  {
   "cell_type": "code",
   "execution_count": 4,
   "id": "4539bd04",
   "metadata": {},
   "outputs": [
    {
     "name": "stdout",
     "output_type": "stream",
     "text": [
      "the integer  False\n"
     ]
    }
   ],
   "source": [
    "def palindromic_integer(x):\n",
    " \n",
    "    reverse_num = 0\n",
    "    while (x >0):\n",
    "        a = x% 10\n",
    "        reverse_num = reverse_num* 10 + a\n",
    "        x =x// 10\n",
    "        \n",
    "    if (x == reverse_num):\n",
    "        return True\n",
    "        \n",
    "    else :\n",
    "        return False\n",
    "        \n",
    "print(\"the integer \",palindromic_integer(12321))"
   ]
  },
  {
   "cell_type": "code",
   "execution_count": 7,
   "id": "6d5df764",
   "metadata": {},
   "outputs": [
    {
     "name": "stdout",
     "output_type": "stream",
     "text": [
      "false\n"
     ]
    }
   ],
   "source": [
    "def palindromic_n(x):\n",
    "    is_palin = True\n",
    "    n = len(x)\n",
    "    for i in range(n):\n",
    "        if x[i] != x[n-i-1]:\n",
    "            is_palin = False\n",
    "            break\n",
    "    if is_palin == 1:\n",
    "        print(\"false\")\n",
    "    else:\n",
    "        print(\"True\")\n",
    "x = [1,2,2,1]   \n",
    "palindromic_n(x)"
   ]
  },
  {
   "cell_type": "code",
   "execution_count": 4,
   "id": "71c4cc26",
   "metadata": {},
   "outputs": [
    {
     "data": {
      "text/plain": [
       "123"
      ]
     },
     "execution_count": 4,
     "metadata": {},
     "output_type": "execute_result"
    }
   ],
   "source": [
    "num = \"123\"\n",
    "num = int(num)\n",
    "num"
   ]
  },
  {
   "cell_type": "markdown",
   "id": "0950be87",
   "metadata": {},
   "source": [
    "num"
   ]
  },
  {
   "cell_type": "code",
   "execution_count": 7,
   "id": "b4d17ac4",
   "metadata": {},
   "outputs": [
    {
     "name": "stdout",
     "output_type": "stream",
     "text": [
      "the required array is  [1, 3, 7]\n"
     ]
    }
   ],
   "source": [
    "class Solution:\n",
    "    def plus_one(self,array):\n",
    "        a = \"\"\n",
    "        for i in array:\n",
    "            a += str(i)\n",
    "        a = int(a)\n",
    "        a +=1\n",
    "        a = str(a)\n",
    "        arr =[]\n",
    "        \n",
    "        for i in a:\n",
    "            arr.append(int(i))\n",
    "        return arr\n",
    "array = [1,3,6]\n",
    "object = Solution()\n",
    "print(\"the required array is \",object.plus_one(array))"
   ]
  },
  {
   "cell_type": "code",
   "execution_count": 9,
   "id": "bbd58de7",
   "metadata": {},
   "outputs": [
    {
     "name": "stdout",
     "output_type": "stream",
     "text": [
      "1\n",
      "13\n",
      "136\n"
     ]
    }
   ],
   "source": [
    "a =\"\"\n",
    "for i in array:\n",
    "    a += str(i)\n",
    "    print(a)\n",
    "array = [1,2,3]\n",
    "            "
   ]
  },
  {
   "cell_type": "code",
   "execution_count": null,
   "id": "cd52d1c6",
   "metadata": {},
   "outputs": [],
   "source": []
  }
 ],
 "metadata": {
  "kernelspec": {
   "display_name": "Python 3 (ipykernel)",
   "language": "python",
   "name": "python3"
  },
  "language_info": {
   "codemirror_mode": {
    "name": "ipython",
    "version": 3
   },
   "file_extension": ".py",
   "mimetype": "text/x-python",
   "name": "python",
   "nbconvert_exporter": "python",
   "pygments_lexer": "ipython3",
   "version": "3.8.15"
  }
 },
 "nbformat": 4,
 "nbformat_minor": 5
}
