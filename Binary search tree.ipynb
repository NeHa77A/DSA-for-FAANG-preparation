{
 "cells": [
  {
   "cell_type": "markdown",
   "id": "a0a7252c",
   "metadata": {},
   "source": [
    "# if after doing inorder traverasl we get sorted array\n",
    "# it is Binary serach tree"
   ]
  },
  {
   "cell_type": "code",
   "execution_count": 1,
   "id": "24d32d63",
   "metadata": {},
   "outputs": [
    {
     "name": "stdout",
     "output_type": "stream",
     "text": [
      "Inorder Travesal of tree \n",
      "40  50  60  70  80  \n"
     ]
    }
   ],
   "source": [
    "class Node:\n",
    "    def __init__(self, data):\n",
    "        self.left = None\n",
    "        self.right = None\n",
    "        self.data = data\n",
    "        \n",
    "def InsertBST(root,key):\n",
    "    # tree is empty\n",
    "    if root is None:\n",
    "        return Node(key)\n",
    "    else:\n",
    "        if root.data== key:\n",
    "            return root\n",
    "        elif root.data <key:\n",
    "            root.right = InsertBST(root.right, key)\n",
    "        else:\n",
    "            root.left = InsertBST(root.left,key)\n",
    "            \n",
    "    return root\n",
    "\n",
    "def inorder(root):\n",
    "    if root:\n",
    "        inorder(root.left)\n",
    "        print(str(root.data)+\" \",end=\" \")\n",
    "        inorder(root.right)\n",
    "    \n",
    "    \n",
    "    \n",
    "#driver key\n",
    "root = Node(50)\n",
    "# function is going to create the tree \n",
    "## so no need to  add left and right element\n",
    "root = InsertBST(root,40)\n",
    "root = InsertBST(root,70)\n",
    "root = InsertBST(root,60)\n",
    "root = InsertBST(root,80)\n",
    "\n",
    "# if after doing inorder traverasl we get sorted array\n",
    "# it is Binary serach tree\n",
    "print(\"Inorder Travesal of tree \")\n",
    "inorder(root)\n",
    "print()"
   ]
  },
  {
   "cell_type": "markdown",
   "id": "f1123504",
   "metadata": {},
   "source": [
    "# SEARCHING "
   ]
  },
  {
   "cell_type": "code",
   "execution_count": 5,
   "id": "79b9b054",
   "metadata": {},
   "outputs": [
    {
     "name": "stdout",
     "output_type": "stream",
     "text": [
      "Serach element present in BST \n"
     ]
    }
   ],
   "source": [
    "def searchBST(root,searchData):\n",
    "    if root is None or root.data==searchData:\n",
    "        return root\n",
    "    # right \n",
    "    if root.data< searchData:\n",
    "        return searchBST(root.right,searchData)\n",
    "    # left\n",
    "    return searchBST(root.left, searchData)\n",
    "    \n",
    "    \n",
    "searchData =60\n",
    "if searchBST(root,searchData):\n",
    "    print(\"Serach element present in BST \")\n",
    "else:\n",
    "    print(\"search element is not present in the BTS\")"
   ]
  },
  {
   "cell_type": "markdown",
   "id": "bee3efab",
   "metadata": {},
   "source": [
    "# Deletion of element"
   ]
  },
  {
   "cell_type": "code",
   "execution_count": null,
   "id": "a165b441",
   "metadata": {},
   "outputs": [],
   "source": []
  }
 ],
 "metadata": {
  "kernelspec": {
   "display_name": "Python 3 (ipykernel)",
   "language": "python",
   "name": "python3"
  },
  "language_info": {
   "codemirror_mode": {
    "name": "ipython",
    "version": 3
   },
   "file_extension": ".py",
   "mimetype": "text/x-python",
   "name": "python",
   "nbconvert_exporter": "python",
   "pygments_lexer": "ipython3",
   "version": "3.8.15"
  }
 },
 "nbformat": 4,
 "nbformat_minor": 5
}
