{
 "cells": [
  {
   "cell_type": "code",
   "execution_count": 5,
   "id": "87258def",
   "metadata": {},
   "outputs": [
    {
     "name": "stdout",
     "output_type": "stream",
     "text": [
      "In forward direction \n",
      "90 78 34 56 \n",
      "In reverse direction \n",
      "56 34 78 90 "
     ]
    }
   ],
   "source": [
    "class node:\n",
    "    def __init__(self,data):\n",
    "        self.data = data\n",
    "        self.next = None\n",
    "        self.prev = None\n",
    "class d_linked_list:\n",
    "    def __init__(self):\n",
    "        self.head = None\n",
    "    def push(self,new_data):\n",
    "        new_node =  node(new_data)\n",
    "        new_node.next = self.head\n",
    "        if self.head is not None:\n",
    "            self.head.prev = new_node\n",
    "        self.head = new_node\n",
    "    def printlist(self,node):\n",
    "        print(\"In forward direction \")\n",
    "        while node:\n",
    "            print(node.data,end = \" \")\n",
    "            last = node\n",
    "            node = node.next\n",
    "        print()\n",
    "        print(\"In reverse direction \")\n",
    "        while last:\n",
    "            print(last.data , end= \" \")\n",
    "            last = last.prev\n",
    "l1 =d_linked_list()\n",
    "l1.push(56)\n",
    "l1.push(34)\n",
    "l1.push(78)\n",
    "l1.push(90)\n",
    "l1.printlist(l1.head)\n",
    "        "
   ]
  },
  {
   "cell_type": "code",
   "execution_count": 8,
   "id": "e285ec39",
   "metadata": {},
   "outputs": [
    {
     "name": "stdout",
     "output_type": "stream",
     "text": [
      "forward direction \n",
      "7 6 5 4 3 2 1 0 \n",
      "Reverse direction \n",
      "0 1 2 3 4 5 6 7 "
     ]
    }
   ],
   "source": [
    "class n:\n",
    "    def __init__(self,d):\n",
    "        self.d= d\n",
    "        self.next = None\n",
    "        self.p = None\n",
    "class llist:\n",
    "    def __init__(self):\n",
    "        self.h = None\n",
    "    def pu(self,new_d):\n",
    "        new_n = n(new_d)\n",
    "        new_n.next = self.h\n",
    "        if self.h is not None:\n",
    "            self.h.p = new_n\n",
    "        self.h = new_n\n",
    "    def pl(self,n):\n",
    "        print(\"forward direction \")\n",
    "        while (n):\n",
    "            print(n.d,end = \" \")\n",
    "            last = n\n",
    "            n = n.next\n",
    "        print()\n",
    "        print(\"Reverse direction \")\n",
    "        while(last):\n",
    "            print(last.d,end = \" \")\n",
    "            last = last.p\n",
    "my_list = llist()\n",
    "for i in range(0,8):\n",
    "    my_list.pu(i)\n",
    "my_list.pl(my_list.h)\n",
    "            "
   ]
  },
  {
   "cell_type": "code",
   "execution_count": 4,
   "id": "4c86c44b",
   "metadata": {},
   "outputs": [
    {
     "name": "stdout",
     "output_type": "stream",
     "text": [
      "In forward direction \n",
      "7 6 5 4 3 2 1 0 \n",
      "In reverse direction\n",
      "0 1 2 3 4 5 6 7 \n",
      "After insertion list is \n",
      "In forward direction \n",
      "7 6 5 45 4 3 2 1 0 \n",
      "In reverse direction\n",
      "0 1 2 3 4 45 5 6 7 "
     ]
    }
   ],
   "source": [
    "class node:\n",
    "    def __init__(self,data):\n",
    "        self.data = data\n",
    "        self.next = None\n",
    "        self.prev = None\n",
    "class linked_list:\n",
    "    def __init__(self):\n",
    "        self.head = None\n",
    "    def push(self,new_data):\n",
    "        new_node = node(new_data)\n",
    "        new_node.next = self.head\n",
    "        if self.head is not None:\n",
    "            self.head.prev = new_node\n",
    "        self.head = new_node\n",
    "    def printdllist(self,node):\n",
    "        print(\"In forward direction \")\n",
    "        while(node):\n",
    "            print(node.data,end = \" \")\n",
    "            last = node\n",
    "            node = node.next \n",
    "        print()\n",
    "        print(\"In reverse direction\")\n",
    "        while(last):\n",
    "            print(last.data,end= \" \")\n",
    "            last = last.prev\n",
    "    def insert(self,prev_node,new_node):\n",
    "        if prev_node is None:\n",
    "            return\n",
    "        new_node = node(new_node)\n",
    "        new_node.next = prev_node.next\n",
    "        prev_node.next = new_node\n",
    "        new_node.prev = prev_node\n",
    "        if new_node.next:\n",
    "            new_node.next.prev = new_node\n",
    "l3 = linked_list()\n",
    "for i in range(0,8):\n",
    "    l3.push(i)\n",
    "l3.printdllist(l3.head)\n",
    "print()\n",
    "print(\"After insertion list is \")\n",
    "l3.insert(l3.head.next.next,45)\n",
    "l3.printdllist(l3.head)"
   ]
  },
  {
   "cell_type": "code",
   "execution_count": 5,
   "id": "9246a8c2",
   "metadata": {},
   "outputs": [
    {
     "name": "stdout",
     "output_type": "stream",
     "text": [
      "In forward direction \n",
      "89 35 67 57 \n",
      "In reverse direction \n",
      "57 67 35 89 "
     ]
    }
   ],
   "source": [
    "class n:\n",
    "    def __init__(self,d):\n",
    "        self.d = d\n",
    "        self.next = None\n",
    "        self.p = None\n",
    "class ll:\n",
    "    def __init__(self):\n",
    "        self.head = None\n",
    "    def push(self,new_d):\n",
    "        new_node = n(new_d)\n",
    "        new_node.next = self.head\n",
    "        if self.head is not None:\n",
    "            self.head.p = new_node\n",
    "        self.head = new_node\n",
    "    def printlist(self,node ):\n",
    "        print(\"In forward direction \")\n",
    "        while(node):\n",
    "            print(node.d, end=\" \")\n",
    "            last = node\n",
    "            node = node.next\n",
    "        print()\n",
    "        print(\"In reverse direction \")\n",
    "        while(last):\n",
    "            print(last.d,end =\" \")\n",
    "            last = last.p\n",
    "dll = ll()\n",
    "dll.push(57)\n",
    "dll.push(67)\n",
    "dll.push(35)\n",
    "dll.push(89)\n",
    "dll.printlist(dll.head)\n",
    "        "
   ]
  },
  {
   "cell_type": "code",
   "execution_count": 12,
   "id": "20346272",
   "metadata": {},
   "outputs": [
    {
     "name": "stdout",
     "output_type": "stream",
     "text": [
      "IN FORWARD DIRECTION \n",
      "29 28 27 26 25 24 23 22 21 \n",
      "IN REVERSE DIRECTION \n",
      "21 22 23 24 25 26 27 28 29 \n",
      "\n",
      " The new list is \n",
      "IN FORWARD DIRECTION \n",
      "29 28 27 26 25 24 23 22 21 45 \n",
      "IN REVERSE DIRECTION \n",
      "45 21 22 23 24 25 26 27 28 29 \n",
      "The peek vale is  29\n"
     ]
    }
   ],
   "source": [
    "class node:\n",
    "    def __init__(self,data):\n",
    "        self.data = data\n",
    "        self.prev = None\n",
    "        self.next = None\n",
    "class linked_list:\n",
    "    def __init__(self):\n",
    "        self.head = None\n",
    "    def push(self,new_data):\n",
    "        new_node = node(new_data)\n",
    "        new_node.next = self.head\n",
    "        if self.head is not None:\n",
    "            self.head.prev = new_node\n",
    "        self.head = new_node\n",
    "    def printlist(self,node):\n",
    "        print(\"IN FORWARD DIRECTION \")\n",
    "        while (node):\n",
    "            print(node.data,end= \" \")\n",
    "            last = node\n",
    "            node = node.next\n",
    "        print()\n",
    "        print(\"IN REVERSE DIRECTION \")\n",
    "        while last:\n",
    "            print(last.data,end= \" \")\n",
    "            last = last.prev\n",
    "    def append(self,new_data):\n",
    "        new_node = node(new_data)\n",
    "        if self.head is None:\n",
    "            self.head = new_node\n",
    "            return\n",
    "        last = self.head\n",
    "        while last.next:\n",
    "            last = last.next\n",
    "        last.next = new_node\n",
    "        new_node.prev = last\n",
    "        return\n",
    "    def peek(self):\n",
    "        if self.head is None:\n",
    "            return\n",
    "        print(\"The peek vale is \",self.head.data)\n",
    "List = linked_list()\n",
    "for i in range(21,30):\n",
    "    List.push(i)\n",
    "List.printlist(List.head)\n",
    "List.append(45)\n",
    "print()\n",
    "print(\"\\n The new list is \")\n",
    "List.printlist(List.head)\n",
    "print()\n",
    "List.peek()"
   ]
  },
  {
   "cell_type": "code",
   "execution_count": 4,
   "id": "093d14e7",
   "metadata": {},
   "outputs": [
    {
     "name": "stdout",
     "output_type": "stream",
     "text": [
      "forward direction \n",
      "78 44 57 \n",
      "reverse direction \n",
      "57 44 78 \n",
      "forward direction \n",
      "44 \n",
      "reverse direction \n",
      "44 78 "
     ]
    }
   ],
   "source": [
    "class n:\n",
    "    def __init__(self,d):\n",
    "        self.d = d\n",
    "        self.next = None\n",
    "        self.p = None\n",
    "class llist:\n",
    "    def __init__(self):\n",
    "        self.head= None\n",
    "    def push(self,new_node):\n",
    "        new_node = n(new_node)\n",
    "        new_node.next = self.head\n",
    "        if self.head is not None:\n",
    "            self.head.p = new_node\n",
    "        self.head = new_node\n",
    "    def printlist(self,node):\n",
    "        print(\"forward direction \")\n",
    "        while node :\n",
    "            print(node.d,end= \" \")\n",
    "            last = node\n",
    "            node = node.next\n",
    "        print()\n",
    "        print(\"reverse direction \")\n",
    "        while last:\n",
    "            print(last.d,end = \" \")\n",
    "            last = last.p\n",
    "    def delete(self,data):\n",
    "        if self.head is None or data is None:\n",
    "            return\n",
    "        if self.head == data:\n",
    "            self.head = data.next\n",
    "        if data.next is not None:\n",
    "            data.next.prev = data.p\n",
    "        if data.p is not None:\n",
    "            data.p.next = data.next\n",
    "            \n",
    "l1= llist()\n",
    "l1.push(57)\n",
    "l1.push(44)\n",
    "l1.push(78)\n",
    "l1.printlist(l1.head)\n",
    "l1.delete(l1.head)\n",
    "l1.delete(l1.head.next)\n",
    "print()\n",
    "l1.printlist(l1.head)"
   ]
  },
  {
   "cell_type": "code",
   "execution_count": 6,
   "id": "18641b7b",
   "metadata": {},
   "outputs": [
    {
     "name": "stdout",
     "output_type": "stream",
     "text": [
      "78 45 90 56 "
     ]
    }
   ],
   "source": [
    "class node:\n",
    "    def __init__(self,data):\n",
    "        self.data = data\n",
    "        self.next = None\n",
    "        self.prev = None\n",
    "class linked_list:\n",
    "    def __init__(self):\n",
    "        self.head = None\n",
    "    def push(self,new_data):\n",
    "        new_node = node(new_data)\n",
    "        new_node.next = self.head\n",
    "        if self.head is not None:\n",
    "            self.head.prev = new_node\n",
    "        self.head = new_node\n",
    "    def printl(self,ele):\n",
    "        ele = self.head\n",
    "        while(ele):\n",
    "            print(ele.data,end=\" \")\n",
    "            ele = ele.next\n",
    "l4 = linked_list()\n",
    "l4.push(56)\n",
    "l4.push(90)\n",
    "l4.push(45)\n",
    "l4.push(78)\n",
    "l4.printl(l4.head)"
   ]
  },
  {
   "cell_type": "code",
   "execution_count": null,
   "id": "7f79b78a",
   "metadata": {},
   "outputs": [],
   "source": []
  },
  {
   "cell_type": "code",
   "execution_count": null,
   "id": "3d3f1656",
   "metadata": {},
   "outputs": [],
   "source": [
    "\n"
   ]
  },
  {
   "cell_type": "code",
   "execution_count": null,
   "id": "66c0e44f",
   "metadata": {},
   "outputs": [],
   "source": []
  },
  {
   "cell_type": "code",
   "execution_count": null,
   "id": "2a949eb7",
   "metadata": {},
   "outputs": [],
   "source": []
  },
  {
   "cell_type": "code",
   "execution_count": null,
   "id": "9d339394",
   "metadata": {},
   "outputs": [],
   "source": []
  },
  {
   "cell_type": "code",
   "execution_count": null,
   "id": "7e38e2bf",
   "metadata": {},
   "outputs": [],
   "source": []
  },
  {
   "cell_type": "code",
   "execution_count": null,
   "id": "809526d7",
   "metadata": {},
   "outputs": [],
   "source": []
  },
  {
   "cell_type": "code",
   "execution_count": null,
   "id": "40537251",
   "metadata": {},
   "outputs": [],
   "source": []
  },
  {
   "cell_type": "code",
   "execution_count": null,
   "id": "50c7a088",
   "metadata": {},
   "outputs": [],
   "source": []
  },
  {
   "cell_type": "code",
   "execution_count": null,
   "id": "2e3568eb",
   "metadata": {},
   "outputs": [],
   "source": []
  }
 ],
 "metadata": {
  "kernelspec": {
   "display_name": "Python 3 (ipykernel)",
   "language": "python",
   "name": "python3"
  },
  "language_info": {
   "codemirror_mode": {
    "name": "ipython",
    "version": 3
   },
   "file_extension": ".py",
   "mimetype": "text/x-python",
   "name": "python",
   "nbconvert_exporter": "python",
   "pygments_lexer": "ipython3",
   "version": "3.8.8"
  }
 },
 "nbformat": 4,
 "nbformat_minor": 5
}
