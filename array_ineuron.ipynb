{
 "cells": [
  {
   "cell_type": "code",
   "execution_count": null,
   "id": "a8dfbf2f",
   "metadata": {},
   "outputs": [],
   "source": [
    "import array as arr\n",
    "# creating array"
   ]
  },
  {
   "cell_type": "code",
   "execution_count": null,
   "id": "afd99623",
   "metadata": {},
   "outputs": [],
   "source": [
    "a = arr.array('i',[1,2,3])\n",
    "print(\"the new created array is \",end =\" \")\n",
    "for i in range (0,3):\n",
    "    print (a[i],end = \" \")\n",
    "print()"
   ]
  },
  {
   "cell_type": "code",
   "execution_count": null,
   "id": "741a0f0f",
   "metadata": {},
   "outputs": [],
   "source": [
    "#adding element in the array \n",
    "a= arr.array('i',[1,2,3])\n",
    "print(\"array before insertion \",end = \" \")\n",
    "for i in range(0,3):\n",
    "    print(a[i],end= \" \")\n",
    "print()\n",
    "\n",
    "#let insert the element in array \n",
    "a.insert(1,4)\n",
    "print(\"Array after insertion \",end =\" \")\n",
    "for i in (a):\n",
    "    print(i,end =\" \")\n",
    "print()"
   ]
  },
  {
   "cell_type": "code",
   "execution_count": null,
   "id": "cc192494",
   "metadata": {},
   "outputs": [],
   "source": [
    "# WE CAN ALSO INSERT THE ELEMENT BY USING \" append\"\n",
    "a.append(5)\n",
    "print(\"the new element is added by using append function \", end = \" \")\n",
    "for i in (a):\n",
    "    print(i,end = \" \")\n",
    "print()\n",
    "# I RUN THE PROGRAM FOUR TIME THEREFORE 5 IS ADDED FOUR TIME "
   ]
  },
  {
   "cell_type": "code",
   "execution_count": null,
   "id": "4b1aabfe",
   "metadata": {},
   "outputs": [],
   "source": [
    "#ACCESSING ELMENT IN ARRAY \n",
    "print(\"the accessing element \",a[0])"
   ]
  },
  {
   "cell_type": "code",
   "execution_count": null,
   "id": "43858309",
   "metadata": {},
   "outputs": [],
   "source": [
    "for i in (a):\n",
    "    print(a[i],end = \" \")\n",
    "print()"
   ]
  },
  {
   "cell_type": "code",
   "execution_count": null,
   "id": "9c0e3b2e",
   "metadata": {},
   "outputs": [],
   "source": [
    "#REMOVING ELEMENT \n",
    "print(\"the popped element is \",end  = \" \")\n",
    "print (a.pop(1))\n",
    "for i in (a):\n",
    "    print(a[i],end = \" \")\n",
    "print()"
   ]
  },
  {
   "cell_type": "code",
   "execution_count": null,
   "id": "82b9009a",
   "metadata": {},
   "outputs": [],
   "source": [
    "pip install plotly --upgrade"
   ]
  },
  {
   "cell_type": "code",
   "execution_count": null,
   "id": "2a7ad0d7",
   "metadata": {},
   "outputs": [],
   "source": [
    "pip install plotly --upgrade"
   ]
  },
  {
   "cell_type": "code",
   "execution_count": null,
   "id": "b742299d",
   "metadata": {},
   "outputs": [],
   "source": [
    "arr =[85,75,70,65,98,99,50,33,47,77]\n",
    "for i in range(0,len(arr)):\n",
    "    if arr[i]==65:\n",
    "        print(i)\n",
    "    "
   ]
  },
  {
   "cell_type": "code",
   "execution_count": 5,
   "id": "d92677e7",
   "metadata": {},
   "outputs": [
    {
     "name": "stdout",
     "output_type": "stream",
     "text": [
      "enter the number which we want to serach 33\n",
      "result is 7\n"
     ]
    }
   ],
   "source": [
    "# LINEAR SERACH\n",
    "def linearserach(arr,a):\n",
    "    for i in range(0,n):\n",
    "        if arr[i]==a:\n",
    "            return i\n",
    "    else:\n",
    "        print(\"element not present in array\")\n",
    "arr =[85,75,70,65,98,99,50,33,47,77]\n",
    "n= len(arr)\n",
    "a= int(input(\"enter the number which we want to serach \"))\n",
    "result =linearserach(arr,a)\n",
    "print('result is',result)   "
   ]
  },
  {
   "cell_type": "markdown",
   "id": "57edaa4d",
   "metadata": {},
   "source": [
    "### BINARY SEARCH ALGORITHM"
   ]
  },
  {
   "cell_type": "code",
   "execution_count": 10,
   "id": "793d3a85",
   "metadata": {},
   "outputs": [
    {
     "name": "stdout",
     "output_type": "stream",
     "text": [
      "Enter the number which want to serach 34\n",
      "the number is  not present\n"
     ]
    }
   ],
   "source": [
    "def binarySearch(arr,x,i,j):\n",
    "    while i <= j:\n",
    "        mid = i +(j-i)//2\n",
    "        if arr[mid] ==x:\n",
    "            return mid\n",
    "        elif arr[mid] <x:\n",
    "            # go to rigth side\n",
    "            return binarySearch(arr,x,mid+1,j)\n",
    "        else:\n",
    "            # go to left side\n",
    "            return binarySearch(arr,x,i,mid-1)\n",
    "    return \"not present\"\n",
    "    \n",
    "#driver code\n",
    "arr =[20,45,56,78,90]\n",
    "x = int(input(\"Enter the number which want to serach \"))\n",
    "i = 0\n",
    "j =len(arr)-1\n",
    "result = binarySearch(arr,x,i,j)\n",
    "print(\"the number is \",result)"
   ]
  },
  {
   "cell_type": "code",
   "execution_count": 11,
   "id": "2763188f",
   "metadata": {},
   "outputs": [
    {
     "name": "stdout",
     "output_type": "stream",
     "text": [
      "Enter the number which want to serach 45\n",
      "the number is  1\n"
     ]
    }
   ],
   "source": [
    "# WITHOUT RECURSION\n",
    "def binarySearch(arr,x,i,j):\n",
    "    while i <= j:\n",
    "        mid = i +(j-i)//2\n",
    "        if arr[mid] ==x:\n",
    "            return mid\n",
    "        elif arr[mid] <x:\n",
    "            # go to rigth side\n",
    "            i= mid +1\n",
    "        else:\n",
    "            # go to left side\n",
    "            j=mid-1\n",
    "    return \"not present\"\n",
    "    \n",
    "#driver code\n",
    "arr =[20,45,56,78,90]\n",
    "x = int(input(\"Enter the number which want to serach \"))\n",
    "i = 0\n",
    "j =len(arr)-1\n",
    "result = binarySearch(arr,x,i,j)\n",
    "print(\"the number is \",result)"
   ]
  },
  {
   "cell_type": "markdown",
   "id": "774cf1e4",
   "metadata": {},
   "source": [
    "### FACEBOOK QUESTION "
   ]
  },
  {
   "cell_type": "code",
   "execution_count": 11,
   "id": "e74b14a7",
   "metadata": {},
   "outputs": [
    {
     "name": "stdout",
     "output_type": "stream",
     "text": [
      "ans is  (5, 5)\n"
     ]
    }
   ],
   "source": [
    "def SumNumber(arr,sum_value):\n",
    "    l = 0\n",
    "    r=len(arr)-1\n",
    "\n",
    "    while l<=r:\n",
    "        if arr[l]+arr[r] ==sum_value:\n",
    "            return l,r\n",
    "        elif arr[l]+arr[r] <sum_value:\n",
    "            l=l+1\n",
    "        else:\n",
    "            r=r-1\n",
    "arr =[20,40,60,80,90,120,240]\n",
    "sum_value = 240\n",
    "\n",
    "result = SumNumber(arr,sum_value)\n",
    "print(\"ans is \",result)"
   ]
  },
  {
   "cell_type": "code",
   "execution_count": 13,
   "id": "16dcc418",
   "metadata": {},
   "outputs": [
    {
     "name": "stdout",
     "output_type": "stream",
     "text": [
      "ans is  5\n"
     ]
    }
   ],
   "source": [
    "def findmaxprofit(price):\n",
    "    #inf is for infinite\n",
    "    minPrice = float('inf')\n",
    "    maxProfit = 0\n",
    "    for i in range(len(price)):\n",
    "        if price[i] < minPrice:\n",
    "            minPrice = price[i]\n",
    "        elif price[i] - minPrice > maxProfit:\n",
    "            maxProfit = price[i] - minPrice\n",
    "    return maxProfit\n",
    "price = [7,1,5,3,6,4]\n",
    "maxProfit1 = findmaxprofit(price)\n",
    "print(\"ans is \",maxProfit1)"
   ]
  },
  {
   "cell_type": "markdown",
   "id": "fb814aa4",
   "metadata": {},
   "source": [
    "### 2D ARRAY "
   ]
  },
  {
   "cell_type": "code",
   "execution_count": 2,
   "id": "512d7cdc",
   "metadata": {},
   "outputs": [
    {
     "name": "stdout",
     "output_type": "stream",
     "text": [
      "Enter the number which want to serach 45\n",
      "result is False\n"
     ]
    }
   ],
   "source": [
    "def searchArray(arr,target):\n",
    "    m = len(arr)\n",
    "    if m == 0:\n",
    "        return False\n",
    "    n = len(arr[0])\n",
    "    left,right =0,m*n-1\n",
    "    #binary serach implementation\n",
    "    while left <=right:\n",
    "        mid = left + (right -left)//2\n",
    "        mid_element = arr[mid//n][mid%n]\n",
    "        if target == mid_element:\n",
    "            return True\n",
    "        elif target <mid_element:\n",
    "            right = mid -1\n",
    "        else:\n",
    "            left = mid +1\n",
    "    return False\n",
    "arr =[[1,3,5,7],[10,11,16,20],[23,30,34,60]]\n",
    "target = int(input(\"Enter the number which want to serach \"))\n",
    "result = searchArray(arr,target)\n",
    "print(\"result is\",result)"
   ]
  },
  {
   "cell_type": "markdown",
   "id": "570cf5d4",
   "metadata": {},
   "source": [
    "### TERNARY SERACH"
   ]
  },
  {
   "cell_type": "code",
   "execution_count": 7,
   "id": "ada14755",
   "metadata": {},
   "outputs": [
    {
     "name": "stdout",
     "output_type": "stream",
     "text": [
      "Enter the number 20\n",
      "the index is  0\n"
     ]
    }
   ],
   "source": [
    "def ternarySearch(arr,i,j,key):\n",
    "    mid1 = i+(j-i)//3\n",
    "    mid2 = j -(j-i)//3\n",
    "    while i<=j:\n",
    "        if arr[mid1] == key:\n",
    "            return mid1\n",
    "        if arr[mid2] == key:\n",
    "            return mid2\n",
    "        # first part \n",
    "        if key < arr[mid1]:\n",
    "            return ternarySearch(arr,i,mid1-1,key)\n",
    "        # third part\n",
    "        if key > arr[mid2]:\n",
    "            return ternarySearch(arr,mid2+1,j,key)\n",
    "        # second part\n",
    "        else:\n",
    "            return ternarySearch(arr,mid1+1,mid2-1,key)\n",
    "    return -1\n",
    "    \n",
    "arr = [20,25,47,56,59,63,65,79,82]\n",
    "i = 0\n",
    "j = len(arr)\n",
    "key =int(input(\"Enter the number \"))\n",
    "result = ternarySearch(arr,i,j,key)\n",
    "print(\"the index is \",result)"
   ]
  },
  {
   "cell_type": "markdown",
   "id": "869807c7",
   "metadata": {},
   "source": [
    "### BUBBLE SORT"
   ]
  },
  {
   "cell_type": "code",
   "execution_count": 7,
   "id": "a651f788",
   "metadata": {},
   "outputs": [
    {
     "name": "stdout",
     "output_type": "stream",
     "text": [
      "Sorted array is  [2, 12, 34, 45, 67]\n"
     ]
    }
   ],
   "source": [
    "def bubbleSort(arr):\n",
    "    n = len(arr)\n",
    "    for i in range(n):\n",
    "        for j in range(0, n-i-1):\n",
    "            if arr[j] > arr[j+1]:\n",
    "                #swap happed here\n",
    "                arr[j], arr[j+1] = arr[j+1],arr[j]\n",
    "    return arr\n",
    "    \n",
    "arr =[12,34,2,45,67]\n",
    "SortedArr = bubbleSort(arr)\n",
    "print(\"Sorted array is \",SortedArr)"
   ]
  },
  {
   "cell_type": "markdown",
   "id": "068fabda",
   "metadata": {},
   "source": [
    "### SELECTION SORT"
   ]
  },
  {
   "cell_type": "code",
   "execution_count": 8,
   "id": "fa620d52",
   "metadata": {},
   "outputs": [
    {
     "name": "stdout",
     "output_type": "stream",
     "text": [
      "sorted array is  [3, 4, 23, 35, 67, 73]\n"
     ]
    }
   ],
   "source": [
    "def selectionSort(arr):\n",
    "    n =len(arr)\n",
    "    for i in range(n):\n",
    "        min_idx =i\n",
    "        for j in range(i+1,n):\n",
    "            if arr[j]<arr[min_idx]:\n",
    "                min_idx = j\n",
    "        # swap is happing\n",
    "        arr[i],arr[min_idx] = arr[min_idx],arr[i]\n",
    "    return arr\n",
    "arr =[23,67,35,73,4,3]\n",
    "result = selectionSort(arr)\n",
    "print(\"sorted array is \",result)"
   ]
  },
  {
   "cell_type": "code",
   "execution_count": 21,
   "id": "e749019b",
   "metadata": {},
   "outputs": [
    {
     "name": "stdout",
     "output_type": "stream",
     "text": [
      "Enter the length od array 6\n",
      "44\n",
      "1\n",
      "45\n",
      "90\n",
      "5\n",
      "34\n",
      "sorted array is  [1, 5, 34, 44, 45, 90]\n"
     ]
    }
   ],
   "source": [
    "def selectionSort(arr):\n",
    "    n =len(arr)\n",
    "    for i in range(n):\n",
    "        min_idx =i\n",
    "        for j in range(i+1,n):\n",
    "            if arr[j]<arr[min_idx]:\n",
    "                min_idx = j\n",
    "        # swap is happing\n",
    "        arr[i],arr[min_idx] = arr[min_idx],arr[i]\n",
    "    return arr\n",
    "def arr(l1):\n",
    "    n = int(input(\"Enter the length od array \"))\n",
    "    for i in range(0,n):\n",
    "        ele = int(input())\n",
    "        l1.append(ele)\n",
    "    return l1\n",
    "l1 =[]\n",
    "arr = arr(l1)\n",
    "result = selectionSort(arr)\n",
    "print(\"sorted array is \",result)"
   ]
  },
  {
   "cell_type": "markdown",
   "id": "9bc3480a",
   "metadata": {},
   "source": [
    "### INSERTION SORT"
   ]
  },
  {
   "cell_type": "code",
   "execution_count": 1,
   "id": "f6897bf9",
   "metadata": {},
   "outputs": [
    {
     "name": "stdout",
     "output_type": "stream",
     "text": [
      "the Sorted array is  [75, 80, 85, 90, 95, 100]\n"
     ]
    }
   ],
   "source": [
    "def insertionSort(arr):\n",
    "    for i in range(1,len(arr)):\n",
    "        j = i-1\n",
    "        key = arr[i]\n",
    "        while j>=0 and arr[j]>key:\n",
    "            arr[j+1] = arr[j]\n",
    "            j = j-1\n",
    "        arr[j+1] = key\n",
    "    return arr\n",
    "arr = [75,90,100,95,85,80]\n",
    "result = insertionSort(arr)\n",
    "print(\"the Sorted array is \",result)"
   ]
  },
  {
   "cell_type": "markdown",
   "id": "0b7c8ad6",
   "metadata": {},
   "source": [
    "### Find max and min"
   ]
  },
  {
   "cell_type": "code",
   "execution_count": 17,
   "id": "86e4b2b2",
   "metadata": {},
   "outputs": [
    {
     "name": "stdout",
     "output_type": "stream",
     "text": [
      "Enter the lenght of array 1\n",
      "2\n",
      "The array is  [2]\n",
      "max and min  (2, 2)\n"
     ]
    }
   ],
   "source": [
    "# BRUTE FORCE APPROACH\n",
    "# TIME COMPLEXITY --->O(n)\n",
    "\n",
    "def maxAndMin(arr):\n",
    "    max1 = arr[0]\n",
    "    min1 = arr[0]\n",
    "    for i in range(len(arr)):\n",
    "        if max1< arr[i]:\n",
    "            max1= arr[i]\n",
    "        elif min1 >arr[i]:\n",
    "            min1 =arr[i]\n",
    "    return max1,min1\n",
    "def array():\n",
    "    l1 =[]\n",
    "    n = int(input(\"Enter the lenght of array \"))\n",
    "    for i in range(n):\n",
    "        a = int(input())\n",
    "        l1.append(a)\n",
    "    print(\"The array is \",l1)\n",
    "    return l1\n",
    "\n",
    "arr= array()\n",
    "result = maxAndMin(arr)\n",
    "print(\"max and min \",result)"
   ]
  },
  {
   "cell_type": "code",
   "execution_count": 3,
   "id": "84c67f0f",
   "metadata": {},
   "outputs": [
    {
     "name": "stdout",
     "output_type": "stream",
     "text": [
      "max and min  (67, 32)\n"
     ]
    }
   ],
   "source": [
    "# WRONG APPROACH\n",
    "\n",
    "def maxAndMin(arr):\n",
    "    min1 = 0\n",
    "    max1 = 0\n",
    "    for i in range(len(arr)):\n",
    "        for j in range(i+1,len(arr)):\n",
    "            if arr[i]>arr[j]:\n",
    "                max1 = arr[i]\n",
    "                min1 = arr[j]\n",
    "    return max1,min1\n",
    "arr = [75,45,95,50,60,67,29,32]\n",
    "result = maxAndMin(arr)\n",
    "print(\"max and min \",result)"
   ]
  },
  {
   "cell_type": "code",
   "execution_count": 10,
   "id": "2ca0c656",
   "metadata": {},
   "outputs": [
    {
     "name": "stdout",
     "output_type": "stream",
     "text": [
      "max and min  (95, 29)\n"
     ]
    }
   ],
   "source": [
    "# HERE WE TAKE ARRAY IS DEFINE \n",
    "# STATIC ARRAY\n",
    "\n",
    "def maxAndMin(arr):\n",
    "    max1 = arr[0]\n",
    "    min1 = arr[0]\n",
    "    for i in range(len(arr)):\n",
    "        if max1< arr[i]:\n",
    "            max1= arr[i]\n",
    "        elif min1 >arr[i]:\n",
    "            min1 =arr[i]\n",
    "    return max1,min1\n",
    "arr = [75,45,95,50,60,67,29,32]\n",
    "result = maxAndMin(arr)\n",
    "print(\"max and min \",result)"
   ]
  },
  {
   "cell_type": "markdown",
   "id": "75d15bd5",
   "metadata": {},
   "source": [
    "### DIVIDE AND CONQUER"
   ]
  },
  {
   "cell_type": "code",
   "execution_count": 1,
   "id": "6e6ab726",
   "metadata": {},
   "outputs": [
    {
     "name": "stdout",
     "output_type": "stream",
     "text": [
      "1\n",
      "2\n",
      "3\n",
      "4\n"
     ]
    }
   ],
   "source": [
    "arr=  [1,2,3,4,5]\n",
    "for i in range(0,len(arr)-1):\n",
    "    print(arr[i])"
   ]
  },
  {
   "cell_type": "code",
   "execution_count": 2,
   "id": "28ca93bb",
   "metadata": {},
   "outputs": [
    {
     "name": "stdout",
     "output_type": "stream",
     "text": [
      "Maximum and Minimum value are  92 20\n"
     ]
    }
   ],
   "source": [
    "# TIME COMPLEXITY ----> O(n)\n",
    "# recursive Relation : 2T(n/2) +c\n",
    "\n",
    "def findMaxAndMin(arr,i,j):\n",
    "    # small problem\n",
    "    if i ==j:                           #--------------->O(1)\n",
    "        max_val = arr[i]\n",
    "        min_val = arr[i]\n",
    "    \n",
    "    # if two element \n",
    "    elif i == j-1:                      #--------------->O(1)\n",
    "        if arr[i]< arr[j]:\n",
    "            max_val = arr[j]\n",
    "            min_val = arr[i]\n",
    "        else:\n",
    "            max_val = arr[i]\n",
    "            min_val = arr[j]\n",
    "    \n",
    "    # big problem \n",
    "    else:\n",
    "        # divide and conquer approach\n",
    "        mid = i+ (j-i)//2\n",
    "        #recursive\n",
    "        max1,min1 = findMaxAndMin(arr,i,mid)            #--------------->t(n/2)\n",
    "        max2,min2 = findMaxAndMin(arr,mid+1,j)         #--------------->t(n/2) \n",
    "        # combine\n",
    "        if max1 <max2:\n",
    "            max_val = max2\n",
    "        else:\n",
    "            max_val = max1\n",
    "        # to find minima\n",
    "        if min1 < min2:\n",
    "            min_val = min1\n",
    "        else:\n",
    "            min_val = min2\n",
    "    return max_val,min_val\n",
    "        \n",
    "    \n",
    "    \n",
    "arr = [20,39,45,65,21,44,89,92]\n",
    "# STARING INDEX\n",
    "i = 0\n",
    "# ENDING INDEX\n",
    "j = len(arr)-1\n",
    "# FUNCTION CALL\n",
    "max_val,min_val = findMaxAndMin(arr,i,j)\n",
    "print(\"Maximum and Minimum value are \",max_val,min_val)"
   ]
  },
  {
   "cell_type": "markdown",
   "id": "a93596d4",
   "metadata": {},
   "source": [
    "### MERGE SORT\n"
   ]
  },
  {
   "cell_type": "code",
   "execution_count": 1,
   "id": "9ac4f0fe",
   "metadata": {},
   "outputs": [
    {
     "name": "stdout",
     "output_type": "stream",
     "text": [
      "sorted array is  [13, 27, 50, 62, 65, 70, 80, 98]\n"
     ]
    }
   ],
   "source": [
    "def mergeProcedure(arr,i,mid ,j):\n",
    "    # n1-->number of element in left subtree(i,mid)\n",
    "    n1 = mid- i+1\n",
    "    # n2 -->number of element of Right subtree(mid+1,j)\n",
    "    n2 = j - mid\n",
    "    \n",
    "    # initilization \n",
    "    leftsubarray = [0] * n1\n",
    "    rightsubarray = [0]*n2\n",
    "    \n",
    "    # copy the element from an array\n",
    "    for m in range(n1):\n",
    "        leftsubarray[m] = arr[i +m]\n",
    "    \n",
    "    for n in range(n2):\n",
    "        rightsubarray[n]= arr[mid +1+n]\n",
    "        \n",
    "    p=0\n",
    "    q=0\n",
    "    k=i\n",
    "    # return sorted array\n",
    "    while p <n1 and q <n2:\n",
    "        if leftsubarray[p] <= rightsubarray[q]:\n",
    "            arr[k] = leftsubarray[p]\n",
    "            p+=1\n",
    "        else:\n",
    "            arr[k]= rightsubarray[q]\n",
    "            q +=1\n",
    "        k+=1\n",
    "     \n",
    "    # copy entire element of left subtree\n",
    "    while p < n1:\n",
    "        arr[k]= leftsubarray[p]\n",
    "        p += 1\n",
    "        k+=1\n",
    "    # copy entire element of right subtree\n",
    "    while q < n2:\n",
    "        arr[k] = rightsubarray[q]\n",
    "        q+=1\n",
    "        k +=1\n",
    "    \n",
    "def mergeSort(arr,i,j):\n",
    "    if i < j:\n",
    "        # divide\n",
    "        mid =i+(j-i)//2\n",
    "        # Conquer\n",
    "        # Left subtree\n",
    "        mergeSort(arr,i,mid)\n",
    "        # Right subtree\n",
    "        mergeSort(arr,mid+1,j)\n",
    "        # combine\n",
    "        mergeProcedure(arr,i,mid,j)\n",
    "    return arr\n",
    "        \n",
    "\n",
    "arr=[50,70,65,13,80,62,98,27]\n",
    "i= 0\n",
    "j = len(arr) -1\n",
    "result = mergeSort(arr,i,j)\n",
    "print(\"sorted array is \",result)"
   ]
  },
  {
   "cell_type": "code",
   "execution_count": 4,
   "id": "a8d2773d",
   "metadata": {},
   "outputs": [
    {
     "name": "stdout",
     "output_type": "stream",
     "text": [
      "1.5\n"
     ]
    }
   ],
   "source": [
    "i,j = 0,5\n",
    "mid=(i+j)/2\n",
    "n1 = mid- (i+1)\n",
    "print(n1)"
   ]
  },
  {
   "cell_type": "markdown",
   "id": "d996a932",
   "metadata": {},
   "source": [
    "### NORMAL QUICK SORT"
   ]
  },
  {
   "cell_type": "code",
   "execution_count": 1,
   "id": "bbeae6fe",
   "metadata": {},
   "outputs": [
    {
     "name": "stdout",
     "output_type": "stream",
     "text": [
      "The sorted array is  [12, 15, 29, 46, 50, 67, 70]\n"
     ]
    }
   ],
   "source": [
    "def partition(arr,p,q):\n",
    "    pivot = arr[p]\n",
    "    i = p\n",
    "    for j in range(i+1,q+1):\n",
    "        if arr[j] <=pivot:\n",
    "            i+= 1\n",
    "            #swap between values\n",
    "            arr[i],arr[j] = arr[j],arr[i]\n",
    "        # final swap between pivot and i\n",
    "    arr[i],arr[p] = arr[p],arr[i]\n",
    "    return i\n",
    "def quickSort(arr,p,q):\n",
    "    if p<q:\n",
    "        # Divide and conquer Approach\n",
    "        mid = partition(arr,p,q)\n",
    "        # Left subtree\n",
    "        quickSort(arr,p,mid-1)\n",
    "        # Right subtree\n",
    "        quickSort(arr,mid+1,q)\n",
    "    return arr\n",
    "\n",
    "#Driver code\n",
    "arr = [50,70,29,67,12,15,46]\n",
    "p = 0\n",
    "q = len(arr) - 1\n",
    "result = quickSort(arr,p,q)\n",
    "print(\"The sorted array is \",result)"
   ]
  },
  {
   "cell_type": "markdown",
   "id": "fa4b789e",
   "metadata": {},
   "source": [
    "### RANDOMIZED QUICK SORT"
   ]
  },
  {
   "cell_type": "code",
   "execution_count": 2,
   "id": "a46a5f1a",
   "metadata": {},
   "outputs": [
    {
     "name": "stdout",
     "output_type": "stream",
     "text": [
      "The sorted array is  [12, 15, 29, 46, 50, 67, 70]\n"
     ]
    }
   ],
   "source": [
    "import random\n",
    "def randomizedPartition(arr,p,q):\n",
    "    # random pivot index\n",
    "    randomPivotIndex = random.randrange(p,q)\n",
    "    # swap \n",
    "    arr[p],arr[randomPivotIndex]=arr[randomPivotIndex],arr[p]\n",
    "    return partition(arr,p,q)\n",
    "\n",
    "def partition(arr,p,q):\n",
    "    pivot = arr[p]\n",
    "    i = p\n",
    "    for j in range(i+1,q+1):\n",
    "        if arr[j] <=pivot:\n",
    "            i+= 1\n",
    "            #swap between values\n",
    "            arr[i],arr[j] = arr[j],arr[i]\n",
    "        # final swap between pivot and i\n",
    "    arr[i],arr[p] = arr[p],arr[i]\n",
    "    return i\n",
    "def quickSort(arr,p,q):\n",
    "    if p<q:\n",
    "        # Divide and conquer Approach\n",
    "        mid = partition(arr,p,q)\n",
    "        # Left subtree\n",
    "        quickSort(arr,p,mid-1)\n",
    "        # Right subtree\n",
    "        quickSort(arr,mid+1,q)\n",
    "    return arr\n",
    "\n",
    "#Driver code\n",
    "arr = [50,70,29,67,12,15,46]\n",
    "p = 0\n",
    "q = len(arr) - 1\n",
    "result = quickSort(arr,p,q)\n",
    "print(\"The sorted array is \",result)"
   ]
  },
  {
   "cell_type": "markdown",
   "id": "553396fa",
   "metadata": {},
   "source": [
    "### COLOR SORT \n"
   ]
  },
  {
   "cell_type": "markdown",
   "id": "71d2aafa",
   "metadata": {},
   "source": [
    "### TWO POINTER APPROACH"
   ]
  },
  {
   "cell_type": "code",
   "execution_count": 2,
   "id": "348f228b",
   "metadata": {},
   "outputs": [
    {
     "name": "stdout",
     "output_type": "stream",
     "text": [
      "The sorted array is  [0, 0, 1, 1, 2, 2]\n"
     ]
    }
   ],
   "source": [
    "# time complexity is equal to O(n)\n",
    "# Method definition\n",
    "def sortColors(nums):\n",
    "    p0 = curr =0\n",
    "    p2 = len(nums) - 1\n",
    "    while curr <= p2:\n",
    "        if nums[curr] == 0:\n",
    "            nums[p0],nums[curr] = nums[curr] ,nums[p0]\n",
    "            p0 += 1\n",
    "            curr +=1\n",
    "        # for 2 come inthe array\n",
    "        if nums[curr] == 2:\n",
    "            nums[p2] , nums[curr] = nums[curr],nums[p2]\n",
    "            p2 -= 1\n",
    "        # if there is 1 then else\n",
    "        else:\n",
    "            curr+=1\n",
    "    return nums\n",
    "\n",
    "# DRIVER CODE\n",
    "nums = [2,0,2,1,1,0]\n",
    "result = sortColors(nums)\n",
    "print(\"The sorted array is \",result)\n"
   ]
  },
  {
   "cell_type": "markdown",
   "id": "824ca610",
   "metadata": {},
   "source": [
    "### MAJORITY ELEMENT"
   ]
  },
  {
   "cell_type": "code",
   "execution_count": 5,
   "id": "16d61b0b",
   "metadata": {},
   "outputs": [
    {
     "name": "stdout",
     "output_type": "stream",
     "text": [
      "Counter({2: 4, 1: 3})\n",
      "Majority element in an array  2\n"
     ]
    }
   ],
   "source": [
    "# Time complexity = O(n)\n",
    "# space complexity = O(n)\n",
    "from collections import Counter\n",
    "def majorityElement(nums):\n",
    "    counts = Counter(nums)\n",
    "    print(counts)\n",
    "    return max(counts.keys(), key = counts.get)\n",
    "#driver code\n",
    "nums= [2,2,1,1,1,2,2]\n",
    "result = majorityElement(nums)\n",
    "print(\"Majority element in an array \",result)"
   ]
  },
  {
   "cell_type": "code",
   "execution_count": null,
   "id": "507c6622",
   "metadata": {},
   "outputs": [],
   "source": [
    "## Approach 2 ----> Boyer -Moore Voting Algorithm\n",
    "# TC= O(n)\n",
    "# space complexity = O(1)"
   ]
  }
 ],
 "metadata": {
  "kernelspec": {
   "display_name": "Python 3 (ipykernel)",
   "language": "python",
   "name": "python3"
  },
  "language_info": {
   "codemirror_mode": {
    "name": "ipython",
    "version": 3
   },
   "file_extension": ".py",
   "mimetype": "text/x-python",
   "name": "python",
   "nbconvert_exporter": "python",
   "pygments_lexer": "ipython3",
   "version": "3.8.15"
  }
 },
 "nbformat": 4,
 "nbformat_minor": 5
}
