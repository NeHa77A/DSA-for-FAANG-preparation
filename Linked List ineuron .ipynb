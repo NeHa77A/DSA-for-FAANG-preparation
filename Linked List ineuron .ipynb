{
 "cells": [
  {
   "cell_type": "markdown",
   "id": "deb0910d",
   "metadata": {},
   "source": [
    "### Insertion at beginning "
   ]
  },
  {
   "cell_type": "code",
   "execution_count": 1,
   "id": "a5622e34",
   "metadata": {},
   "outputs": [
    {
     "name": "stdout",
     "output_type": "stream",
     "text": [
      "40 30 20 10 "
     ]
    }
   ],
   "source": [
    "class Node:\n",
    "    def __init__(self,data):\n",
    "        self.data = data\n",
    "        self.next = None\n",
    "class LinkedList:\n",
    "    def __init__(self):\n",
    "        self.head = None\n",
    "        \n",
    "    # Insert the new node at the begnning of linked list\n",
    "    def insertAtBeginning(self,new_data):\n",
    "        # create a new node for the new_data\n",
    "        new_node = Node(new_data)\n",
    "        # insert at the beginning \n",
    "        new_node.next = self.head\n",
    "        self.head = new_node\n",
    "    def printList(self):\n",
    "        temp = self.head\n",
    "        while temp:\n",
    "            print(temp.data, end=\" \")\n",
    "            temp =temp.next\n",
    "# driver code\n",
    "Llist = LinkedList()\n",
    "Llist.insertAtBeginning(10)\n",
    "Llist.insertAtBeginning(20)\n",
    "Llist.insertAtBeginning(30)\n",
    "Llist.insertAtBeginning(40)\n",
    "Llist.printList()        "
   ]
  },
  {
   "cell_type": "code",
   "execution_count": 3,
   "id": "3f4356c3",
   "metadata": {},
   "outputs": [
    {
     "name": "stdout",
     "output_type": "stream",
     "text": [
      "enter the lengh of linked list 3\n",
      "21\n",
      "34\n",
      "45\n",
      "45 34 21 3 2 1 0 40 30 20 10 "
     ]
    }
   ],
   "source": [
    "## for one one value lene ke liye\n",
    "n= int(input(\"enter the lengh of linked list \"))\n",
    "for i in range(0,n):\n",
    "    i =int(input())\n",
    "    Llist.insertAtBeginning(i)\n",
    "Llist.printList()"
   ]
  },
  {
   "cell_type": "markdown",
   "id": "c8609145",
   "metadata": {},
   "source": [
    "### Insertion at end "
   ]
  },
  {
   "cell_type": "code",
   "execution_count": null,
   "id": "5631e974",
   "metadata": {},
   "outputs": [
    {
     "name": "stdout",
     "output_type": "stream",
     "text": [
      "enter the lengh of linked list 4\n",
      "12\n",
      "34\n",
      "24\n"
     ]
    }
   ],
   "source": [
    "class Node:\n",
    "    def __init__(self,data):\n",
    "        self.data = data\n",
    "        self.next = None\n",
    "class LinkedList:\n",
    "    def __init__(self):\n",
    "        self.head = None\n",
    "    def insertAtEnd(self,new_data):\n",
    "        new_node = Node(new_data)\n",
    "\n",
    "        if self.head is None:\n",
    "            self.head = new_node\n",
    "            return\n",
    "        temp1 = self.head\n",
    "        while temp1.next:\n",
    "            temp1 = temp1.next\n",
    "        temp1.next = new_node\n",
    "    def printList(self):\n",
    "        temp = self.head\n",
    "        while temp:\n",
    "            print(temp.data, end=\" \")\n",
    "            temp =temp.next\n",
    "                    \n",
    "        \n",
    "            \n",
    "Llist = LinkedList()        \n",
    "n= int(input(\"enter the lengh of linked list \"))\n",
    "for i in range(0,n):\n",
    "    i =int(input())\n",
    "    Llist.insertAtEnd(i)\n",
    "Llist.printList()       "
   ]
  },
  {
   "cell_type": "code",
   "execution_count": 1,
   "id": "15286efe",
   "metadata": {},
   "outputs": [],
   "source": [
    "def deletenode(pos):\n",
    "    temp = self.head\n",
    "    for i in range(pos-1):\n",
    "        temp = temp.next\n",
    "        if temp is None:\n",
    "            return True\n",
    "    tempPtr = temp.next.next\n",
    "    temp.next = None\n",
    "    temp.next = tempPtr\n",
    "        \n",
    "    "
   ]
  },
  {
   "cell_type": "code",
   "execution_count": 9,
   "id": "868a151a",
   "metadata": {},
   "outputs": [
    {
     "name": "stdout",
     "output_type": "stream",
     "text": [
      "enter the lengh of linked list 0\n",
      "\n",
      "Enter The Position which Node you Want to delete3\n",
      "\n",
      "the Deleted Node is \n"
     ]
    }
   ],
   "source": [
    "class Node:\n",
    "    def __init__(self,data):\n",
    "        self.data = data\n",
    "        self.next = None\n",
    "class LinkedList:\n",
    "    def __init__(self):\n",
    "        self.head = None\n",
    "    def insertAtEnd(self,new_data):\n",
    "        new_node = Node(new_data)\n",
    "\n",
    "        if self.head is None:\n",
    "            self.head = new_node\n",
    "            return\n",
    "        temp1 = self.head\n",
    "        while temp1.next:\n",
    "            temp1 = temp1.next\n",
    "        temp1.next = new_node\n",
    "    def deletenode(self,pos):\n",
    "        if self.head is None:\n",
    "            return\n",
    "        temp = self.head\n",
    "        \n",
    "        for i in range(pos-1):\n",
    "            temp = temp.next\n",
    "            if temp is None:\n",
    "                return True\n",
    "        tempPtr = temp.next.next\n",
    "        temp.next = None\n",
    "        temp.next = tempPtr\n",
    "        \n",
    "    def printList(self):\n",
    "        temp = self.head\n",
    "        while temp:\n",
    "            print(temp.data, end=\" \")\n",
    "            temp =temp.next\n",
    "                    \n",
    "        \n",
    "            \n",
    "Llist = LinkedList()        \n",
    "n= int(input(\"enter the lengh of linked list \"))\n",
    "for i in range(0,n):\n",
    "    i =int(input())\n",
    "    Llist.insertAtEnd(i)\n",
    "Llist.printList() \n",
    "print()\n",
    "pos=int(input(\"Enter The Position which Node you Want to delete \"))\n",
    "Llist.deletenode(pos)\n",
    "print()\n",
    "print(\"the Change Node are after Deletion \")\n",
    "Llist.printList()"
   ]
  },
  {
   "cell_type": "code",
   "execution_count": null,
   "id": "dfe538c7",
   "metadata": {},
   "outputs": [],
   "source": []
  }
 ],
 "metadata": {
  "kernelspec": {
   "display_name": "Python 3 (ipykernel)",
   "language": "python",
   "name": "python3"
  },
  "language_info": {
   "codemirror_mode": {
    "name": "ipython",
    "version": 3
   },
   "file_extension": ".py",
   "mimetype": "text/x-python",
   "name": "python",
   "nbconvert_exporter": "python",
   "pygments_lexer": "ipython3",
   "version": "3.8.15"
  }
 },
 "nbformat": 4,
 "nbformat_minor": 5
}
