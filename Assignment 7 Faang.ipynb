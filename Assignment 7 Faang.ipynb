{
 "cells": [
  {
   "cell_type": "markdown",
   "id": "7cfd4172",
   "metadata": {},
   "source": [
    "### COLLINEAR POINT"
   ]
  },
  {
   "cell_type": "code",
   "execution_count": 4,
   "id": "f382615e",
   "metadata": {},
   "outputs": [
    {
     "name": "stdout",
     "output_type": "stream",
     "text": [
      "No The pointare not collinear\n"
     ]
    }
   ],
   "source": [
    "def collinearPoint(x1,y1,x2,y2,x3,y3):\n",
    "    if ((y3-y1)*(x2-x1) == (y2-y1)*(x3-x2)):\n",
    "        print(\"Yes the point are collinear \")\n",
    "    else:\n",
    "        print(\"No The pointare not collinear\")\n",
    "\n",
    "x1,y1,x2,y2,x3,y3 = 1,1,1,6,0,9              #1,6,1,0,1,9 collinear points\n",
    "collinearPoint(x1,y1,x2,y2,x3,y3)"
   ]
  },
  {
   "cell_type": "code",
   "execution_count": 3,
   "id": "20ea849e",
   "metadata": {},
   "outputs": [
    {
     "name": "stdout",
     "output_type": "stream",
     "text": [
      "they are collinear\n"
     ]
    }
   ],
   "source": [
    "# APPROACH 2 AREA OF TRIANGLE\n",
    "\n",
    "def collinearPoint(x1,y1,x2,y2,x3,y3):\n",
    "    area= 0.5 *(x1*(y2-y3)+ x2*(y3-y1) +x3*(y1-y2))\n",
    "    if area == 0:\n",
    "        print(\"they are collinear\")\n",
    "    else:\n",
    "        print(\"No The pointare not collinear\")\n",
    "x1,y1,x2,y2,x3,y3 = 1,6,1,0,1,9\n",
    "collinearPoint(x1,y1,x2,y2,x3,y3)        "
   ]
  },
  {
   "cell_type": "code",
   "execution_count": null,
   "id": "b2ce89a5",
   "metadata": {},
   "outputs": [],
   "source": []
  }
 ],
 "metadata": {
  "kernelspec": {
   "display_name": "Python 3 (ipykernel)",
   "language": "python",
   "name": "python3"
  },
  "language_info": {
   "codemirror_mode": {
    "name": "ipython",
    "version": 3
   },
   "file_extension": ".py",
   "mimetype": "text/x-python",
   "name": "python",
   "nbconvert_exporter": "python",
   "pygments_lexer": "ipython3",
   "version": "3.8.15"
  }
 },
 "nbformat": 4,
 "nbformat_minor": 5
}
