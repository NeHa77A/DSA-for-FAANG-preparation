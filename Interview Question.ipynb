{
 "cells": [
  {
   "cell_type": "markdown",
   "id": "792af77e",
   "metadata": {},
   "source": [
    "# Interview Question"
   ]
  },
  {
   "cell_type": "markdown",
   "id": "d12f4169",
   "metadata": {},
   "source": [
    "###  Valid Parenthesis"
   ]
  },
  {
   "cell_type": "code",
   "execution_count": null,
   "id": "13c682e7",
   "metadata": {},
   "outputs": [],
   "source": [
    "def isvalide(string):\n",
    "    # open bracket is map with close blacket \n",
    "    bracketMapping ={\"(\":\")\",\"[\":\"]\",\"{\":\"}\"}\n",
    "    # open bracket ----> open with this only\n",
    "    # set use for no repeatition\n",
    "    openParan = set([\"(\",\"[\",\"{\"])\n",
    "    # stack use for storing\n",
    "    stack =[]\n",
    "    \n",
    "    for s in string:\n",
    "        if s in openParan:\n",
    "            # if s is present in openParan then add in stack\n",
    "            stack.append(s)\n",
    "        # stack[-1] last element check\n",
    "        elif stack and s == bracketMapping[stack[-1]]:\n",
    "            # same hoga to pop hoga\n",
    "            stack.pop()\n",
    "        else:\n",
    "            return False\n",
    "    return stack ==[]\n",
    "string = input(\"Enter the paranthesis \")\n",
    "print(\"The Paranthesis is Valid\",isvalide(string))\n",
    "            "
   ]
  },
  {
   "cell_type": "markdown",
   "id": "2a86cd5b",
   "metadata": {},
   "source": [
    "### Singly linked list ---> Circular Linked List"
   ]
  },
  {
   "cell_type": "code",
   "execution_count": null,
   "id": "4abcde30",
   "metadata": {},
   "outputs": [],
   "source": [
    "class Node:\n",
    "    def __init__(self,data):\n",
    "        self.data = data\n",
    "        self.next = None\n",
    "class Linkedlist:\n",
    "    def __init__(self):\n",
    "        self.head = None\n",
    "    \n",
    "    def InsertAtB(self,data):\n",
    "        new_node = Node(data)\n",
    "        new_node.next = self.head\n",
    "        self.head = new_node\n",
    "    \n",
    "    def printLinkedList(self):\n",
    "        temp = self.head\n",
    "        while temp:\n",
    "            print(temp.data,end =\" \")\n",
    "            temp = temp.next\n",
    "    def CircularLinkedList(self):\n",
    "        temp = self.head\n",
    "        while temp.next:\n",
    "            temp = temp.next\n",
    "        temp.next = self.head\n",
    "Llist1 = Linkedlist()\n",
    "n =int(input(\"Enter The Lenght of list \"))\n",
    "for i in range(n):\n",
    "    i=int(input())\n",
    "    Llist1.InsertAtB(i)\n",
    "Llist1.printLinkedList()\n",
    "Llist1.CircularLinkedList()\n",
    "print(\"circular linked list \")\n",
    "Llist1.printLinkedList()\n",
    "print(\"end\")\n",
    "        "
   ]
  },
  {
   "cell_type": "markdown",
   "id": "2f2068bf",
   "metadata": {},
   "source": [
    "### Palindrome ---> stack"
   ]
  },
  {
   "cell_type": "code",
   "execution_count": 10,
   "id": "a6393eeb",
   "metadata": {},
   "outputs": [
    {
     "name": "stdout",
     "output_type": "stream",
     "text": [
      "Enter The Lenght of list 4\n",
      "2\n",
      "2\n",
      "2\n",
      "2\n",
      "2 2 2 2 \n",
      "Is the list is Plindrome\n"
     ]
    },
    {
     "data": {
      "text/plain": [
       "True"
      ]
     },
     "execution_count": 10,
     "metadata": {},
     "output_type": "execute_result"
    }
   ],
   "source": [
    "class Node:\n",
    "    def __init__(self,data):\n",
    "        self.data = data\n",
    "        self.next = None\n",
    "class LinkedList:\n",
    "    def __init__(self):\n",
    "        self.head = None\n",
    "    def insertAtEnd(self,new_data):\n",
    "        new_node = Node(new_data)\n",
    "\n",
    "        if self.head is None:\n",
    "            self.head = new_node\n",
    "            return\n",
    "        temp1 = self.head\n",
    "        while temp1.next:\n",
    "            temp1 = temp1.next\n",
    "        temp1.next = new_node\n",
    "        \n",
    "    def isPalindrome(self):\n",
    "        stack =[]\n",
    "        temp = self.head\n",
    "        while temp:\n",
    "            stack.append(temp.data)\n",
    "            temp = temp.next\n",
    "        temp = self.head\n",
    "        for i in range(len(stack)//2):\n",
    "            stack_ele = stack.pop()\n",
    "            if stack_ele == temp.data:\n",
    "                temp = temp.next\n",
    "                continue\n",
    "            else:\n",
    "                return False\n",
    "        return True\n",
    "    \n",
    "    def printList(self):\n",
    "        temp = self.head\n",
    "        while temp:\n",
    "            print(temp.data,end=\" \")\n",
    "            temp = temp.next\n",
    "Llist1 = LinkedList()\n",
    "n =int(input(\"Enter The Lenght of list \"))\n",
    "for i in range(n):\n",
    "    i=int(input())\n",
    "    Llist1.insertAtEnd(i)\n",
    "Llist1.printList()\n",
    "print()\n",
    "print(\"Is the list is Plindrome\")\n",
    "Llist1.isPalindrome()"
   ]
  },
  {
   "cell_type": "code",
   "execution_count": null,
   "id": "6476656d",
   "metadata": {},
   "outputs": [],
   "source": []
  }
 ],
 "metadata": {
  "kernelspec": {
   "display_name": "Python 3 (ipykernel)",
   "language": "python",
   "name": "python3"
  },
  "language_info": {
   "codemirror_mode": {
    "name": "ipython",
    "version": 3
   },
   "file_extension": ".py",
   "mimetype": "text/x-python",
   "name": "python",
   "nbconvert_exporter": "python",
   "pygments_lexer": "ipython3",
   "version": "3.8.15"
  }
 },
 "nbformat": 4,
 "nbformat_minor": 5
}
