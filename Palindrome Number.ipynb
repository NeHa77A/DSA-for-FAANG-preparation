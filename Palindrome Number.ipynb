{
 "cells": [
  {
   "cell_type": "code",
   "execution_count": 3,
   "id": "7f36d296",
   "metadata": {},
   "outputs": [
    {
     "name": "stdout",
     "output_type": "stream",
     "text": [
      "Enter the number1567\n",
      "7\n",
      "7\n",
      "6\n",
      "76\n",
      "5\n",
      "765\n",
      "1\n",
      "7651\n",
      "Not a palindromen number\n"
     ]
    }
   ],
   "source": [
    "number = int(input(\"Enter the number\"))\n",
    "# store in temprary variable\n",
    "temp = number\n",
    "\n",
    "## start with zero\n",
    "reverse = 0\n",
    "\n",
    "while number>0:\n",
    "    digit = number%10\n",
    "    print(digit)\n",
    "    reverse =reverse* 10 +digit\n",
    "    print(reverse)\n",
    "    number = number//10\n",
    "    \n",
    "if (temp==reverse):\n",
    "    print(\"Number is palindrom \")\n",
    "else:\n",
    "    print(\"Not a palindromen number\")\n",
    "    "
   ]
  },
  {
   "cell_type": "code",
   "execution_count": null,
   "id": "26fd646d",
   "metadata": {},
   "outputs": [],
   "source": []
  }
 ],
 "metadata": {
  "kernelspec": {
   "display_name": "Python 3 (ipykernel)",
   "language": "python",
   "name": "python3"
  },
  "language_info": {
   "codemirror_mode": {
    "name": "ipython",
    "version": 3
   },
   "file_extension": ".py",
   "mimetype": "text/x-python",
   "name": "python",
   "nbconvert_exporter": "python",
   "pygments_lexer": "ipython3",
   "version": "3.8.15"
  }
 },
 "nbformat": 4,
 "nbformat_minor": 5
}
