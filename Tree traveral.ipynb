{
 "cells": [
  {
   "cell_type": "markdown",
   "id": "90cb286b",
   "metadata": {},
   "source": [
    "# always go with linked list --> the waste of space are less in the LL"
   ]
  },
  {
   "cell_type": "markdown",
   "id": "8232d26f",
   "metadata": {},
   "source": [
    "## for Tree"
   ]
  },
  {
   "cell_type": "markdown",
   "id": "45ed1dc4",
   "metadata": {},
   "source": [
    "## PreOrder Traversal"
   ]
  },
  {
   "cell_type": "code",
   "execution_count": 12,
   "id": "f25aa4b0",
   "metadata": {},
   "outputs": [
    {
     "name": "stdout",
     "output_type": "stream",
     "text": [
      "Preorder Traveral of given Tree \n",
      "1  2  4  5  3  \n",
      "Inorder Traveral of given Tree \n",
      "4  2  5  1  3  \n",
      "Postorder Traveral of given Tree \n",
      "4  5  2  3  1  \n"
     ]
    }
   ],
   "source": [
    "class Node:\n",
    "    def __init__(self,data):\n",
    "        self.left = None\n",
    "        self.right = None\n",
    "        self.data = data\n",
    "        \n",
    "    # Implementation of preorder Traversal\n",
    "    \n",
    "def preOrder(root):\n",
    "    if root:\n",
    "        print(str(root.data)+\" \", end=\" \")\n",
    "        # using the recursive fuction xcall for the left subtree\n",
    "        preOrder(root.left)\n",
    "        # using the recursive fuction xcall for the right subtree\n",
    "        preOrder(root.right)    \n",
    "\n",
    "def inOrder(root):\n",
    "    if root:\n",
    "        # using the recursive fuction call for the left subtree\n",
    "        inOrder(root.left)\n",
    "        print(str(root.data) +\" \",end =\" \")\n",
    "        # using the recursive fuction xcall for the right subtree\n",
    "        inOrder(root.right)\n",
    "        \n",
    "# Implementation of postOrder\n",
    "def postOrder(root):\n",
    "    if root:\n",
    "        # using the recursive fuction xcall for the right subtree\n",
    "        postOrder(root.left)\n",
    "        # using the recursive fuction xcall for the right subtree\n",
    "        postOrder(root.right)\n",
    "        print(str(root.data) +\" \",end =\" \")\n",
    "        \n",
    "            \n",
    "#Driver code\n",
    "root = Node(1)\n",
    "root.left = Node(2)\n",
    "root.right = Node(3)\n",
    "root.left.left = Node(4)\n",
    "root.left.right = Node(5)\n",
    "\n",
    "print(\"Preorder Traveral of given Tree \")\n",
    "preOrder(root)\n",
    "print()\n",
    "\n",
    "print(\"Inorder Traveral of given Tree \")\n",
    "inOrder(root)\n",
    "print()\n",
    "\n",
    "print(\"Postorder Traveral of given Tree \")\n",
    "postOrder(root)\n",
    "print()"
   ]
  },
  {
   "cell_type": "markdown",
   "id": "2067715c",
   "metadata": {},
   "source": [
    "## Preorder Traversal without Recursion"
   ]
  },
  {
   "cell_type": "code",
   "execution_count": 14,
   "id": "7bfafca5",
   "metadata": {},
   "outputs": [
    {
     "name": "stdout",
     "output_type": "stream",
     "text": [
      "Preorder Traveral of given Tree \n",
      "10  20  40  50  30  60  70  \n"
     ]
    }
   ],
   "source": [
    "class Node:\n",
    "    def __init__(self,data):\n",
    "        self.left = None\n",
    "        self.right = None\n",
    "        self.data = data\n",
    "        \n",
    "## Iterative approach to implement preorder traversal\n",
    "def Preorder(root):\n",
    "    if root is None:\n",
    "        return\n",
    "    stack =[]\n",
    "    # append the root node in the stack\n",
    "    stack.append(root)\n",
    "    while len(stack)>0:\n",
    "        popped = stack.pop()\n",
    "        print(str(popped.data)+ \" \",end=\" \")\n",
    "        \n",
    "        if popped.right:\n",
    "            stack.append(popped.right)\n",
    "            \n",
    "        if popped.left:\n",
    "            stack.append(popped.left)\n",
    "\n",
    "            \n",
    "#Driver code\n",
    "root = Node(10)\n",
    "root.left = Node(20)\n",
    "root.right = Node(30)\n",
    "root.left.left = Node(40)\n",
    "root.left.right = Node(50)\n",
    "root.right.left = Node(60)\n",
    "root.right.right = Node(70)\n",
    "\n",
    "print(\"Preorder Traveral of given Tree \")\n",
    "Preorder(root)\n",
    "print()"
   ]
  },
  {
   "cell_type": "markdown",
   "id": "7073d19d",
   "metadata": {},
   "source": [
    "## PostOrder Traversal without recursion"
   ]
  },
  {
   "cell_type": "code",
   "execution_count": 15,
   "id": "ffbb7bb2",
   "metadata": {},
   "outputs": [
    {
     "name": "stdout",
     "output_type": "stream",
     "text": [
      "Postorder Traveral of given Tree \n",
      "40 50 20 60 70 30 10 \n"
     ]
    }
   ],
   "source": [
    "def postOder(root):\n",
    "    s1 =[]\n",
    "    s2 =[]\n",
    "    s1.append(root)\n",
    "    \n",
    "    while (len(s1)>0):\n",
    "        node = s1.pop()\n",
    "        s2.append(node)\n",
    "        \n",
    "        if (node.left!= None):\n",
    "            s1.append(node.left)\n",
    "            \n",
    "        if(node.right!= None):\n",
    "            s1.append(node.right)\n",
    "    while(len(s2)>0):\n",
    "        node=s2.pop()\n",
    "        print(node.data, end=\" \")\n",
    "        \n",
    "#Driver code\n",
    "root = Node(10)\n",
    "root.left = Node(20)\n",
    "root.right = Node(30)\n",
    "root.left.left = Node(40)\n",
    "root.left.right = Node(50)\n",
    "root.right.left = Node(60)\n",
    "root.right.right = Node(70)\n",
    "\n",
    "print(\"Postorder Traveral of given Tree \")\n",
    "postOder(root)\n",
    "print()"
   ]
  },
  {
   "cell_type": "markdown",
   "id": "873cecb6",
   "metadata": {},
   "source": [
    "## InOrder Traversal without recursion"
   ]
  },
  {
   "cell_type": "code",
   "execution_count": 17,
   "id": "65dbdf76",
   "metadata": {},
   "outputs": [
    {
     "name": "stdout",
     "output_type": "stream",
     "text": [
      "Inorder Traveral of given Tree \n",
      "40  20  50  10  60  30  70  \n"
     ]
    }
   ],
   "source": [
    "def inOrder(root):\n",
    "    current = root\n",
    "    stack =[]\n",
    "    \n",
    "    while(True):\n",
    "        if current is not None:\n",
    "            stack.append(current)\n",
    "            current = current.left\n",
    "\n",
    "        elif len(stack)>0:\n",
    "            current = stack.pop()\n",
    "            print(str(current.data)+\" \",end=\" \")\n",
    "            current = current.right\n",
    "\n",
    "        else:\n",
    "            break\n",
    "        \n",
    "#Driver code\n",
    "root = Node(10)\n",
    "root.left = Node(20)\n",
    "root.right = Node(30)\n",
    "root.left.left = Node(40)\n",
    "root.left.right = Node(50)\n",
    "root.right.left = Node(60)\n",
    "root.right.right = Node(70)\n",
    "\n",
    "print(\"Inorder Traveral of given Tree \")\n",
    "inOrder(root)\n",
    "print()"
   ]
  },
  {
   "cell_type": "code",
   "execution_count": null,
   "id": "0a79ef5b",
   "metadata": {},
   "outputs": [],
   "source": []
  }
 ],
 "metadata": {
  "kernelspec": {
   "display_name": "Python 3 (ipykernel)",
   "language": "python",
   "name": "python3"
  },
  "language_info": {
   "codemirror_mode": {
    "name": "ipython",
    "version": 3
   },
   "file_extension": ".py",
   "mimetype": "text/x-python",
   "name": "python",
   "nbconvert_exporter": "python",
   "pygments_lexer": "ipython3",
   "version": "3.8.15"
  }
 },
 "nbformat": 4,
 "nbformat_minor": 5
}
